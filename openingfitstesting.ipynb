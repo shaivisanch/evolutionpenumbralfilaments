{
 "cells": [
  {
   "cell_type": "code",
   "execution_count": 25,
   "id": "f9c477a9-7af9-4e14-8a00-7fb5c8890428",
   "metadata": {},
   "outputs": [],
   "source": [
    "from astropy.io import fits\n",
    "import matplotlib.pyplot as plt"
   ]
  },
  {
   "cell_type": "code",
   "execution_count": null,
   "id": "034c6f51-9840-456e-af4f-b77777d4c6c4",
   "metadata": {},
   "outputs": [],
   "source": [
    "hdu = fits.open(\"/sanhome/shaivi/data/Phil_Shirts/SPcubes_20170915_224806_blapp_index.fits\")\n",
    "hdu[0].header, hdu[0].data"
   ]
  },
  {
   "cell_type": "code",
   "execution_count": null,
   "id": "6a3fc96a-b7fc-4c99-b164-8ec3490ae116",
   "metadata": {},
   "outputs": [],
   "source": [
    "hdu.info()"
   ]
  },
  {
   "cell_type": "code",
   "execution_count": 31,
   "id": "362c35ba-fe8e-4ecb-b5af-7257f603903e",
   "metadata": {},
   "outputs": [
    {
     "data": {
      "text/plain": [
       "astropy.io.fits.header.Header"
      ]
     },
     "execution_count": 31,
     "metadata": {},
     "output_type": "execute_result"
    }
   ],
   "source": [
    "# plt.imshow(hdu.data)\n",
    "type(hdu[0].header)"
   ]
  },
  {
   "cell_type": "code",
   "execution_count": null,
   "id": "393fe86a-3507-4d46-8c34-c1e2be97ca72",
   "metadata": {},
   "outputs": [],
   "source": [
    "with fits.open(\"/sanhome/shaivi/data/Phil_Shirts/SPcubes_20170915_224806_blapp_index.fits\") as hdul:\n",
    "hdul.verify('fix')\n",
    "data = hdul[1].data"
   ]
  },
  {
   "cell_type": "code",
   "execution_count": null,
   "id": "61e91a69-c74e-4642-8402-dd2694af4fba",
   "metadata": {},
   "outputs": [],
   "source": [
    "\n",
    "\n",
    "\n",
    "\n",
    "\n",
    "\n",
    "\n"
   ]
  }
 ],
 "metadata": {
  "kernelspec": {
   "display_name": "Python 3 (ipykernel)",
   "language": "python",
   "name": "python3"
  },
  "language_info": {
   "codemirror_mode": {
    "name": "ipython",
    "version": 3
   },
   "file_extension": ".py",
   "mimetype": "text/x-python",
   "name": "python",
   "nbconvert_exporter": "python",
   "pygments_lexer": "ipython3",
   "version": "3.10.6"
  }
 },
 "nbformat": 4,
 "nbformat_minor": 5
}
