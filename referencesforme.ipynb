{
 "cells": [
  {
   "cell_type": "code",
   "execution_count": null,
   "id": "6cfea13e-1648-4f03-a380-c49c15ec933a",
   "metadata": {},
   "outputs": [],
   "source": [
    "plt.figure()\n",
    "plt.imshow((conti[1].data < conti[1].data.mean()) * conti[1].data)\n",
    "plt.colorbar()\n",
    "plt.show()"
   ]
  },
  {
   "cell_type": "code",
   "execution_count": null,
   "id": "55e67f91-fbe4-4ada-84a3-d69a1188c3b7",
   "metadata": {},
   "outputs": [],
   "source": [
    "print(conti[1].data.mean())\n",
    "print(conti[1].data.max())\n",
    "print(conti[1].data.min())"
   ]
  },
  {
   "cell_type": "code",
   "execution_count": null,
   "id": "b7619e42-03b0-40ef-87ce-d25267b068b5",
   "metadata": {},
   "outputs": [],
   "source": [
    "data_conti.shape\n",
    "fig, ax = plt.subplots(1,3)\n",
    "len(ax)"
   ]
  },
  {
   "cell_type": "code",
   "execution_count": null,
   "id": "5be40eff-3167-47f8-985c-7f652f0bd53e",
   "metadata": {},
   "outputs": [],
   "source": [
    "##plt.imshow(conti[1].data[conti[1].data<conti[1].data.mean()])\n",
    "##plt.show()"
   ]
  },
  {
   "cell_type": "code",
   "execution_count": 1,
   "id": "4801948f-c8f7-4161-a3a6-d1fdf63510a7",
   "metadata": {},
   "outputs": [
    {
     "ename": "NameError",
     "evalue": "name 'data_conti' is not defined",
     "output_type": "error",
     "traceback": [
      "\u001b[0;31m---------------------------------------------------------------------------\u001b[0m",
      "\u001b[0;31mNameError\u001b[0m                                 Traceback (most recent call last)",
      "Cell \u001b[0;32mIn [1], line 1\u001b[0m\n\u001b[0;32m----> 1\u001b[0m \u001b[38;5;28mprint\u001b[39m(\u001b[43mdata_conti\u001b[49m[\u001b[38;5;241m0\u001b[39m]\u001b[38;5;241m.\u001b[39mdata\u001b[38;5;241m.\u001b[39mmax())\n\u001b[1;32m      2\u001b[0m \u001b[38;5;28mprint\u001b[39m(data_conti[\u001b[38;5;241m0\u001b[39m]\u001b[38;5;241m.\u001b[39mdata\u001b[38;5;241m.\u001b[39mmin())\n",
      "\u001b[0;31mNameError\u001b[0m: name 'data_conti' is not defined"
     ]
    }
   ],
   "source": [
    "print(data_conti[0].data.max())\n",
    "print(data_conti[0].data.min())\n",
    "magincl[1].data.max()\n",
    "magincl[1].data.min()\n",
    "magfield[1].data.max()\n",
    "magfield[1].data.min()\n",
    "conti[1].data.shape\n",
    "Bz_temp.data.shape\n",
    "(Bz_temp).min()"
   ]
  },
  {
   "cell_type": "code",
   "execution_count": null,
   "id": "1e823318-2b95-4fc7-8d60-0400ec14f23e",
   "metadata": {},
   "outputs": [],
   "source": [
    "data_Bz[1].data.min()\n",
    "data_Bz[1].data.max()"
   ]
  }
 ],
 "metadata": {
  "kernelspec": {
   "display_name": "Python 3 (ipykernel)",
   "language": "python",
   "name": "python3"
  },
  "language_info": {
   "codemirror_mode": {
    "name": "ipython",
    "version": 3
   },
   "file_extension": ".py",
   "mimetype": "text/x-python",
   "name": "python",
   "nbconvert_exporter": "python",
   "pygments_lexer": "ipython3",
   "version": "3.10.6"
  }
 },
 "nbformat": 4,
 "nbformat_minor": 5
}
