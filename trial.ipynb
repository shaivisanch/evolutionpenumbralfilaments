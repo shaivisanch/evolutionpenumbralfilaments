{
 "cells": [
  {
   "cell_type": "code",
   "execution_count": 37,
   "id": "e18e1201-de8a-49e5-904e-66691ed4381b",
   "metadata": {},
   "outputs": [],
   "source": [
    "import numpy as np\n",
    "\n",
    "#Set up matplotlib\n",
    "import matplotlib.pyplot as plt\n",
    "%matplotlib inline\n",
    "from astropy.io import fits"
   ]
  },
  {
   "cell_type": "code",
   "execution_count": 38,
   "id": "d72a4ffa-0683-41f9-aac9-7d7d4c301b78",
   "metadata": {},
   "outputs": [],
   "source": [
    " from astropy.utils.data import download_file\n",
    "image_file = download_file('file:///sanhome/shaivi/data/Phil_Shirts/SPcubes_20170915_224806_magfield_index.fits', cache=True)\n"
   ]
  },
  {
   "cell_type": "code",
   "execution_count": 61,
   "id": "bfd2d8d1-3028-4c86-ad92-2b7d1073c8fe",
   "metadata": {},
   "outputs": [
    {
     "name": "stdout",
     "output_type": "stream",
     "text": [
      "Filename: /Users/shaivi/.astropy/cache/download/url/1bea07d76cbf5587379368cad7df7c6e/contents\n",
      "No.    Name      Ver    Type      Cards   Dimensions   Format\n",
      "  0  PRIMARY       1 PrimaryHDU      49   ()      \n",
      "  1                1 ImageHDU        49   (120, 384)   float32   \n",
      "  2                1 ImageHDU        49   (120, 384)   float32   \n",
      "  3                1 ImageHDU        49   (120, 384)   float32   \n",
      "  4                1 ImageHDU        49   (120, 384)   float32   \n",
      "  5                1 ImageHDU        49   (120, 384)   float32   \n",
      "  6                1 ImageHDU        49   (120, 384)   float32   \n",
      "  7                1 ImageHDU        49   (120, 384)   float32   \n",
      "  8                1 ImageHDU        49   (120, 384)   float32   \n",
      "  9                1 ImageHDU        49   (120, 384)   float32   \n",
      " 10                1 ImageHDU        49   (120, 384)   float32   \n",
      " 11                1 ImageHDU        49   (120, 384)   float32   \n",
      " 12                1 ImageHDU        49   (120, 384)   float32   \n",
      " 13                1 ImageHDU        49   (120, 384)   float32   \n",
      " 14                1 ImageHDU        49   (120, 384)   float32   \n",
      " 15                1 ImageHDU        49   (120, 384)   float32   \n",
      " 16                1 ImageHDU        49   (120, 384)   float32   \n",
      " 17                1 ImageHDU        49   (120, 384)   float32   \n",
      " 18                1 ImageHDU        49   (120, 384)   float32   \n",
      " 19                1 ImageHDU        49   (120, 384)   float32   \n",
      " 20                1 ImageHDU        49   (120, 384)   float32   \n",
      " 21                1 ImageHDU        49   (120, 384)   float32   \n",
      " 22                1 ImageHDU        49   (120, 384)   float32   \n",
      " 23                1 ImageHDU        49   (120, 384)   float32   \n",
      " 24                1 ImageHDU        49   (120, 384)   float32   \n",
      " 25                1 ImageHDU        49   (120, 384)   float32   \n",
      " 26                1 ImageHDU        49   (120, 384)   float32   \n",
      " 27                1 ImageHDU        49   (120, 384)   float32   \n",
      " 28                1 ImageHDU        49   (120, 384)   float32   \n",
      " 29                1 ImageHDU        49   (120, 384)   float32   \n",
      " 30                1 ImageHDU        49   (120, 384)   float32   \n",
      " 31                1 ImageHDU        49   (120, 384)   float32   \n",
      " 32                1 ImageHDU        49   (120, 384)   float32   \n",
      " 33                1 ImageHDU        49   (120, 384)   float32   \n",
      " 34                1 ImageHDU        49   (120, 384)   float32   \n",
      " 35                1 ImageHDU        49   (120, 384)   float32   \n",
      " 36                1 ImageHDU        49   (120, 384)   float32   \n",
      " 37                1 ImageHDU        49   (120, 384)   float32   \n",
      " 38                1 ImageHDU        49   (120, 384)   float32   \n",
      " 39                1 ImageHDU        49   (120, 384)   float32   \n",
      " 40                1 ImageHDU        49   (120, 384)   float32   \n",
      " 41                1 ImageHDU        49   (120, 384)   float32   \n",
      " 42                1 ImageHDU        49   (120, 384)   float32   \n",
      " 43                1 ImageHDU        49   (120, 384)   float32   \n",
      " 44                1 ImageHDU        49   (120, 384)   float32   \n",
      " 45                1 ImageHDU        49   (120, 384)   float32   \n",
      " 46                1 ImageHDU        49   (120, 384)   float32   \n",
      " 47                1 ImageHDU        49   (120, 384)   float32   \n",
      " 48                1 ImageHDU        49   (120, 384)   float32   \n",
      " 49                1 ImageHDU        49   (120, 384)   float32   \n",
      " 50                1 ImageHDU        49   (120, 384)   float32   \n",
      " 51                1 ImageHDU        49   (120, 384)   float32   \n",
      " 52                1 ImageHDU        49   (120, 384)   float32   \n",
      " 53                1 ImageHDU        49   (120, 384)   float32   \n",
      " 54                1 ImageHDU        49   (120, 384)   float32   \n",
      " 55                1 ImageHDU        49   (120, 384)   float32   \n",
      " 56                1 ImageHDU        49   (120, 384)   float32   \n",
      " 57                1 ImageHDU        49   (120, 384)   float32   \n",
      " 58                1 ImageHDU        49   (120, 384)   float32   \n",
      " 59                1 ImageHDU        49   (120, 384)   float32   \n"
     ]
    }
   ],
   "source": [
    "hdu_list = fits.open('file:///sanhome/shaivi/data/Phil_Shirts/SPcubes_20170915_224806_magfield_index.fits')\n",
    "hdu_list.info()"
   ]
  },
  {
   "cell_type": "code",
   "execution_count": 40,
   "id": "84a74bf4-83d0-4e7f-8c40-148060956389",
   "metadata": {},
   "outputs": [
    {
     "data": {
      "text/plain": [
       "192.5"
      ]
     },
     "execution_count": 40,
     "metadata": {},
     "output_type": "execute_result"
    }
   ],
   "source": [
    " hdu_list[0].header['CRPIX2']  \n"
   ]
  },
  {
   "cell_type": "code",
   "execution_count": 62,
   "id": "78551855-039b-4d96-877c-3e3627e23afa",
   "metadata": {},
   "outputs": [
    {
     "data": {
      "text/plain": [
       "<bound method Header.keys of SIMPLE  =                    T / Written by IDL:  Tue Jul 31 18:20:15 2018      \n",
       "BITPIX  =                   16 / Number of bits per data pixel                  \n",
       "NAXIS   =                    0 / Number of data axes                            \n",
       "EXTEND  =                    T / FITS data may contain extensions               \n",
       "DATE    = '2018-08-01'         / Creation UTC (CCCC-MM-DD) date of FITS header  \n",
       "COMMENT FITS (Flexible Image Transport System) format is defined in 'Astronomy  \n",
       "COMMENT and Astrophysics', volume 376, page 359; bibcode 2001A&A...376..359H    \n",
       "TELESCOP= 'HINODE  '           /                                                \n",
       "INSTRUME= 'SOT/SP  '           /                                                \n",
       "PROG_VER=                  463 /                                                \n",
       "SEQN_VER=                  496 /                                                \n",
       "PARM_VER=                  481 /                                                \n",
       "DATE_OBS= '15-Sep-2017 22:51:36.064' /                                          \n",
       "CRPIX1  =        60.5000000000 /                                                \n",
       "CRPIX2  =        192.500000000 /                                                \n",
       "CRVAL1  =       -16.2612735023 /                                                \n",
       "CRVAL2  =        21.3578605561 /                                                \n",
       "CDELT1  =       0.148569002748 /                                                \n",
       "CDELT2  =       0.159899994731 /                                                \n",
       "CUNIT1  = 'arcseconds'         /                                                \n",
       "CUNIT2  = 'arcseconds'         /                                                \n",
       "CTYPE1  = 'Solar-X '           /                                                \n",
       "CTYPE2  = 'Solar-Y '           /                                                \n",
       "CROTA1  =       0.411978989840 /                                                \n",
       "CROTA2  =       0.671978950500 /                                                \n",
       "XCEN    =       -16.2612735023 /                                                \n",
       "YCEN    =        21.3578605561 /                                                \n",
       "SPMAPCTR=                   38 /                                                \n",
       "SPCCDIX0=                  320 /                                                \n",
       "SPCCDIX1=                  703 /                                                \n",
       "MACROID =                27316 /                                                \n",
       "NSLITPOS=                  120 /                                                \n",
       "NUM_SIDE=                    1 /                                                \n",
       "WAVE    = '6302A   '           /                                                \n",
       "SP_EXTID=                   11 /                                                \n",
       "SCN_STEP=                    1 /                                                \n",
       "SCN_SUM =                    1 /                                                \n",
       "SCN_RPT =                    1 /                                                \n",
       "CAMSSUM =                    1 /                                                \n",
       "EXPTIME =        3.20000000000 /                                                \n",
       "TSTART  = '2017-09-15T22:48:06.937' /                                           \n",
       "TEND    = '2017-09-16T05:48:03.331' /                                           \n",
       "MAPID   = '124576  '           /                                                \n",
       "BTYPE   = 'B_LOS   '           /                                                \n",
       "BUNIT   = 'Gauss   '           /                                                \n",
       "LVL_NUM =              1.50000 /                                                \n",
       "P_ANGLE =        24.2128619787 /                                                \n",
       "B_ANGLE =        7.19150301274 /                                                \n",
       "SOLAR_RA=        953.769601368 /                                                >"
      ]
     },
     "execution_count": 62,
     "metadata": {},
     "output_type": "execute_result"
    }
   ],
   "source": [
    "hdu_list[0].header.keys"
   ]
  },
  {
   "cell_type": "code",
   "execution_count": 16,
   "id": "2e0c4401-efeb-44b8-9aa5-b667a363f202",
   "metadata": {},
   "outputs": [
    {
     "ename": "AttributeError",
     "evalue": "'HDUList' object has no attribute 'header'",
     "output_type": "error",
     "traceback": [
      "\u001b[0;31m---------------------------------------------------------------------------\u001b[0m",
      "\u001b[0;31mAttributeError\u001b[0m                            Traceback (most recent call last)",
      "Input \u001b[0;32mIn [16]\u001b[0m, in \u001b[0;36m<cell line: 1>\u001b[0;34m()\u001b[0m\n\u001b[0;32m----> 1\u001b[0m \u001b[43mhdu_list\u001b[49m\u001b[38;5;241;43m.\u001b[39;49m\u001b[43mheader\u001b[49m\u001b[38;5;241m.\u001b[39mkeys()\n",
      "\u001b[0;31mAttributeError\u001b[0m: 'HDUList' object has no attribute 'header'"
     ]
    }
   ],
   "source": [
    "hdu_list.header.keys()"
   ]
  },
  {
   "cell_type": "code",
   "execution_count": 21,
   "id": "a34b339f-5875-43f6-b172-8d6e0678e604",
   "metadata": {},
   "outputs": [],
   "source": [
    " hdu_list[1].header['CRPIX2'] = 10"
   ]
  },
  {
   "cell_type": "code",
   "execution_count": 27,
   "id": "d20a9d4a-bea0-4b9a-ba5a-acfac0d02a98",
   "metadata": {},
   "outputs": [
    {
     "data": {
      "text/plain": [
       "192.5"
      ]
     },
     "execution_count": 27,
     "metadata": {},
     "output_type": "execute_result"
    }
   ],
   "source": [
    " hdu_list[1].header['CRPIX2']"
   ]
  },
  {
   "cell_type": "code",
   "execution_count": 23,
   "id": "5caf7f82-9a85-43cb-9b3e-608f5f84ec5d",
   "metadata": {},
   "outputs": [],
   "source": [
    "hdu_list.close()"
   ]
  },
  {
   "cell_type": "code",
   "execution_count": 63,
   "id": "f85a6bc2-6e7e-4a21-b2da-08f05f25000f",
   "metadata": {},
   "outputs": [
    {
     "ename": "AttributeError",
     "evalue": "'PrimaryHDU' object has no attribute 'keys'",
     "output_type": "error",
     "traceback": [
      "\u001b[0;31m---------------------------------------------------------------------------\u001b[0m",
      "\u001b[0;31mAttributeError\u001b[0m                            Traceback (most recent call last)",
      "Input \u001b[0;32mIn [63]\u001b[0m, in \u001b[0;36m<cell line: 1>\u001b[0;34m()\u001b[0m\n\u001b[0;32m----> 1\u001b[0m \u001b[43mhdu_list\u001b[49m\u001b[43m[\u001b[49m\u001b[38;5;241;43m0\u001b[39;49m\u001b[43m]\u001b[49m\u001b[38;5;241;43m.\u001b[39;49m\u001b[43mkeys\u001b[49m\n",
      "\u001b[0;31mAttributeError\u001b[0m: 'PrimaryHDU' object has no attribute 'keys'"
     ]
    }
   ],
   "source": [
    "hdu_list[0].keys"
   ]
  },
  {
   "cell_type": "code",
   "execution_count": 53,
   "id": "d86ea30a-8e84-452a-9983-a90d579ef8e0",
   "metadata": {},
   "outputs": [
    {
     "name": "stdout",
     "output_type": "stream",
     "text": [
      "[[105.77743   98.031586  94.69424  ...  96.192924  86.15805   90.56161 ]\n",
      " [105.77747   98.031586  94.69209  ...  96.19286   86.15316   90.56148 ]\n",
      " [105.77736   98.03249   94.69209  ...  96.190475  86.15316   90.56387 ]\n",
      " ...\n",
      " [ 81.52216   78.70954   79.2335   ...  90.57449   93.28548   80.82093 ]\n",
      " [ 83.13952   82.79776   70.74152  ...  93.63762   84.48952   65.341354]\n",
      " [ 81.073105  81.485146  80.36795  ...  87.51134   62.761627  68.04373 ]]\n"
     ]
    }
   ],
   "source": [
    "data = hdu_list[1].data\n",
    "print(data)"
   ]
  },
  {
   "cell_type": "code",
   "execution_count": 51,
   "id": "31f975ce-f750-4aa6-9742-5cec3cdd98d5",
   "metadata": {},
   "outputs": [
    {
     "data": {
      "text/plain": [
       "(384, 120)"
      ]
     },
     "execution_count": 51,
     "metadata": {},
     "output_type": "execute_result"
    }
   ],
   "source": [
    "data.shape"
   ]
  },
  {
   "cell_type": "code",
   "execution_count": 52,
   "id": "cf5c1e6c-a71f-4571-9400-fe190af499e4",
   "metadata": {},
   "outputs": [
    {
     "data": {
      "text/plain": [
       "'float32'"
      ]
     },
     "execution_count": 52,
     "metadata": {},
     "output_type": "execute_result"
    }
   ],
   "source": [
    "data.dtype.name"
   ]
  },
  {
   "cell_type": "code",
   "execution_count": 44,
   "id": "36a01bf8-4780-42a6-8e6d-0ae3fbb9af87",
   "metadata": {},
   "outputs": [
    {
     "ename": "ValueError",
     "evalue": "The truth value of an array with more than one element is ambiguous. Use a.any() or a.all()",
     "output_type": "error",
     "traceback": [
      "\u001b[0;31m---------------------------------------------------------------------------\u001b[0m",
      "\u001b[0;31mValueError\u001b[0m                                Traceback (most recent call last)",
      "Input \u001b[0;32mIn [44]\u001b[0m, in \u001b[0;36m<cell line: 1>\u001b[0;34m()\u001b[0m\n\u001b[0;32m----> 1\u001b[0m \u001b[43mplt\u001b[49m\u001b[38;5;241;43m.\u001b[39;49m\u001b[43mshow\u001b[49m\u001b[43m(\u001b[49m\u001b[43mdata\u001b[49m\u001b[43m)\u001b[49m\n",
      "File \u001b[0;32m~/mambaforge/envs/work/lib/python3.10/site-packages/matplotlib/pyplot.py:389\u001b[0m, in \u001b[0;36mshow\u001b[0;34m(*args, **kwargs)\u001b[0m\n\u001b[1;32m    345\u001b[0m \u001b[38;5;124;03m\"\"\"\u001b[39;00m\n\u001b[1;32m    346\u001b[0m \u001b[38;5;124;03mDisplay all open figures.\u001b[39;00m\n\u001b[1;32m    347\u001b[0m \n\u001b[0;32m   (...)\u001b[0m\n\u001b[1;32m    386\u001b[0m \u001b[38;5;124;03mexplicitly there.\u001b[39;00m\n\u001b[1;32m    387\u001b[0m \u001b[38;5;124;03m\"\"\"\u001b[39;00m\n\u001b[1;32m    388\u001b[0m _warn_if_gui_out_of_main_thread()\n\u001b[0;32m--> 389\u001b[0m \u001b[38;5;28;01mreturn\u001b[39;00m \u001b[43m_get_backend_mod\u001b[49m\u001b[43m(\u001b[49m\u001b[43m)\u001b[49m\u001b[38;5;241;43m.\u001b[39;49m\u001b[43mshow\u001b[49m\u001b[43m(\u001b[49m\u001b[38;5;241;43m*\u001b[39;49m\u001b[43margs\u001b[49m\u001b[43m,\u001b[49m\u001b[43m \u001b[49m\u001b[38;5;241;43m*\u001b[39;49m\u001b[38;5;241;43m*\u001b[39;49m\u001b[43mkwargs\u001b[49m\u001b[43m)\u001b[49m\n",
      "File \u001b[0;32m~/mambaforge/envs/work/lib/python3.10/site-packages/matplotlib_inline/backend_inline.py:49\u001b[0m, in \u001b[0;36mshow\u001b[0;34m(close, block)\u001b[0m\n\u001b[1;32m     46\u001b[0m show\u001b[38;5;241m.\u001b[39m_to_draw \u001b[38;5;241m=\u001b[39m []\n\u001b[1;32m     47\u001b[0m \u001b[38;5;66;03m# only call close('all') if any to close\u001b[39;00m\n\u001b[1;32m     48\u001b[0m \u001b[38;5;66;03m# close triggers gc.collect, which can be slow\u001b[39;00m\n\u001b[0;32m---> 49\u001b[0m \u001b[38;5;28;01mif\u001b[39;00m close \u001b[38;5;129;01mand\u001b[39;00m Gcf\u001b[38;5;241m.\u001b[39mget_all_fig_managers():\n\u001b[1;32m     50\u001b[0m     matplotlib\u001b[38;5;241m.\u001b[39mpyplot\u001b[38;5;241m.\u001b[39mclose(\u001b[38;5;124m'\u001b[39m\u001b[38;5;124mall\u001b[39m\u001b[38;5;124m'\u001b[39m)\n",
      "\u001b[0;31mValueError\u001b[0m: The truth value of an array with more than one element is ambiguous. Use a.any() or a.all()"
     ]
    }
   ],
   "source": [
    "plt.show(data)"
   ]
  },
  {
   "cell_type": "code",
   "execution_count": 45,
   "id": "f2aff3f0-bdb3-4d44-9c7c-3f6c531ba055",
   "metadata": {},
   "outputs": [
    {
     "data": {
      "text/plain": [
       "<matplotlib.image.AxesImage at 0x10ac711b0>"
      ]
     },
     "execution_count": 45,
     "metadata": {},
     "output_type": "execute_result"
    },
    {
     "data": {
      "image/png": "[encoded data removed]",
      "text/plain": [
       "<Figure size 432x288 with 1 Axes>"
      ]
     },
     "metadata": {
      "needs_background": "light"
     },
     "output_type": "display_data"
    }
   ],
   "source": [
    "plt.imshow(data, cmap = 'gray')"
   ]
  },
  {
   "cell_type": "code",
   "execution_count": 46,
   "id": "4f5da225-72a9-4c22-8dd5-2896706aedf9",
   "metadata": {},
   "outputs": [
    {
     "name": "stdout",
     "output_type": "stream",
     "text": [
      "Filename: /Users/shaivi/.astropy/cache/download/url/5a8b46f7e378df09ee8f4eafa394613f/contents\n",
      "No.    Name      Ver    Type      Cards   Dimensions   Format\n",
      "  0  PRIMARY       1 PrimaryHDU      49   ()      \n",
      "  1                1 ImageHDU        49   (120, 384)   float32   \n",
      "  2                1 ImageHDU        49   (120, 384)   float32   \n",
      "  3                1 ImageHDU        49   (120, 384)   float32   \n",
      "  4                1 ImageHDU        49   (120, 384)   float32   \n",
      "  5                1 ImageHDU        49   (120, 384)   float32   \n",
      "  6                1 ImageHDU        49   (120, 384)   float32   \n",
      "  7                1 ImageHDU        49   (120, 384)   float32   \n",
      "  8                1 ImageHDU        49   (120, 384)   float32   \n",
      "  9                1 ImageHDU        49   (120, 384)   float32   \n",
      " 10                1 ImageHDU        49   (120, 384)   float32   \n",
      " 11                1 ImageHDU        49   (120, 384)   float32   \n",
      " 12                1 ImageHDU        49   (120, 384)   float32   \n",
      " 13                1 ImageHDU        49   (120, 384)   float32   \n",
      " 14                1 ImageHDU        49   (120, 384)   float32   \n",
      " 15                1 ImageHDU        49   (120, 384)   float32   \n",
      " 16                1 ImageHDU        49   (120, 384)   float32   \n",
      " 17                1 ImageHDU        49   (120, 384)   float32   \n",
      " 18                1 ImageHDU        49   (120, 384)   float32   \n",
      " 19                1 ImageHDU        49   (120, 384)   float32   \n",
      " 20                1 ImageHDU        49   (120, 384)   float32   \n",
      " 21                1 ImageHDU        49   (120, 384)   float32   \n",
      " 22                1 ImageHDU        49   (120, 384)   float32   \n",
      " 23                1 ImageHDU        49   (120, 384)   float32   \n",
      " 24                1 ImageHDU        49   (120, 384)   float32   \n",
      " 25                1 ImageHDU        49   (120, 384)   float32   \n",
      " 26                1 ImageHDU        49   (120, 384)   float32   \n",
      " 27                1 ImageHDU        49   (120, 384)   float32   \n",
      " 28                1 ImageHDU        49   (120, 384)   float32   \n",
      " 29                1 ImageHDU        49   (120, 384)   float32   \n",
      " 30                1 ImageHDU        49   (120, 384)   float32   \n",
      " 31                1 ImageHDU        49   (120, 384)   float32   \n",
      " 32                1 ImageHDU        49   (120, 384)   float32   \n",
      " 33                1 ImageHDU        49   (120, 384)   float32   \n",
      " 34                1 ImageHDU        49   (120, 384)   float32   \n",
      " 35                1 ImageHDU        49   (120, 384)   float32   \n",
      " 36                1 ImageHDU        49   (120, 384)   float32   \n",
      " 37                1 ImageHDU        49   (120, 384)   float32   \n",
      " 38                1 ImageHDU        49   (120, 384)   float32   \n",
      " 39                1 ImageHDU        49   (120, 384)   float32   \n",
      " 40                1 ImageHDU        49   (120, 384)   float32   \n",
      " 41                1 ImageHDU        49   (120, 384)   float32   \n",
      " 42                1 ImageHDU        49   (120, 384)   float32   \n",
      " 43                1 ImageHDU        49   (120, 384)   float32   \n",
      " 44                1 ImageHDU        49   (120, 384)   float32   \n",
      " 45                1 ImageHDU        49   (120, 384)   float32   \n",
      " 46                1 ImageHDU        49   (120, 384)   float32   \n",
      " 47                1 ImageHDU        49   (120, 384)   float32   \n",
      " 48                1 ImageHDU        49   (120, 384)   float32   \n",
      " 49                1 ImageHDU        49   (120, 384)   float32   \n",
      " 50                1 ImageHDU        49   (120, 384)   float32   \n",
      " 51                1 ImageHDU        49   (120, 384)   float32   \n",
      " 52                1 ImageHDU        49   (120, 384)   float32   \n",
      " 53                1 ImageHDU        49   (120, 384)   float32   \n",
      " 54                1 ImageHDU        49   (120, 384)   float32   \n",
      " 55                1 ImageHDU        49   (120, 384)   float32   \n",
      " 56                1 ImageHDU        49   (120, 384)   float32   \n",
      " 57                1 ImageHDU        49   (120, 384)   float32   \n",
      " 58                1 ImageHDU        49   (120, 384)   float32   \n",
      " 59                1 ImageHDU        49   (120, 384)   float32   \n"
     ]
    }
   ],
   "source": [
    "hdu_list = fits.open('file:///sanhome/shaivi/data/Phil_Shirts/SPcubes_20170915_224806_magincl_index.fits')\n",
    "hdu_list.info()"
   ]
  },
  {
   "cell_type": "code",
   "execution_count": 47,
   "id": "fedf9752-ce2b-4389-94dd-630a388c834b",
   "metadata": {},
   "outputs": [
    {
     "data": {
      "text/plain": [
       "<matplotlib.image.AxesImage at 0x10acd3be0>"
      ]
     },
     "execution_count": 47,
     "metadata": {},
     "output_type": "execute_result"
    },
    {
     "data": {
      "image/png": "[encoded data removed]",
      "text/plain": [
       "<Figure size 432x288 with 1 Axes>"
      ]
     },
     "metadata": {
      "needs_background": "light"
     },
     "output_type": "display_data"
    }
   ],
   "source": [
    "plt.imshow(data, cmap = 'gray')"
   ]
  },
  {
   "cell_type": "code",
   "execution_count": 49,
   "id": "832b7db5-33f4-4a5b-aebd-2557370e5aaa",
   "metadata": {},
   "outputs": [
    {
     "ename": "FileNotFoundError",
     "evalue": "[Errno 2] No such file or directory: 'file:///sanhome/shaivi/data/Phil_Shirts/read_sotsp.pro'",
     "output_type": "error",
     "traceback": [
      "\u001b[0;31m---------------------------------------------------------------------------\u001b[0m",
      "\u001b[0;31mFileNotFoundError\u001b[0m                         Traceback (most recent call last)",
      "Input \u001b[0;32mIn [49]\u001b[0m, in \u001b[0;36m<cell line: 1>\u001b[0;34m()\u001b[0m\n\u001b[0;32m----> 1\u001b[0m hdu_list \u001b[38;5;241m=\u001b[39m \u001b[38;5;28;43mopen\u001b[39;49m\u001b[43m(\u001b[49m\u001b[38;5;124;43m'\u001b[39;49m\u001b[38;5;124;43mfile:///sanhome/shaivi/data/Phil_Shirts/read_sotsp.pro\u001b[39;49m\u001b[38;5;124;43m'\u001b[39;49m\u001b[43m)\u001b[49m\n\u001b[1;32m      2\u001b[0m hdu_list\u001b[38;5;241m.\u001b[39minfo()\n",
      "\u001b[0;31mFileNotFoundError\u001b[0m: [Errno 2] No such file or directory: 'file:///sanhome/shaivi/data/Phil_Shirts/read_sotsp.pro'"
     ]
    }
   ],
   "source": [
    "hdu_list = open('file:///sanhome/shaivi/data/Phil_Shirts/read_sotsp.pro')\n",
    "hdu_list.info()"
   ]
  },
  {
   "cell_type": "code",
   "execution_count": 54,
   "id": "7e086f38-c32e-4d90-92d2-92db8f632a45",
   "metadata": {},
   "outputs": [
    {
     "ename": "SyntaxError",
     "evalue": "invalid syntax (547628930.py, line 1)",
     "output_type": "error",
     "traceback": [
      "\u001b[0;36m  Input \u001b[0;32mIn [54]\u001b[0;36m\u001b[0m\n\u001b[0;31m    bz=fld*cos(incl*!dtor)\u001b[0m\n\u001b[0m                    ^\u001b[0m\n\u001b[0;31mSyntaxError\u001b[0m\u001b[0;31m:\u001b[0m invalid syntax\n"
     ]
    }
   ],
   "source": [
    "bz=fld*cos(incl*!dtor)"
   ]
  },
  {
   "cell_type": "code",
   "execution_count": null,
   "id": "f2b6481e-1274-43c9-9ef6-e3359a02f31a",
   "metadata": {},
   "outputs": [],
   "source": []
  }
 ],
 "metadata": {
  "kernelspec": {
   "display_name": "Python 3 (ipykernel)",
   "language": "python",
   "name": "python3"
  },
  "language_info": {
   "codemirror_mode": {
    "name": "ipython",
    "version": 3
   },
   "file_extension": ".py",
   "mimetype": "text/x-python",
   "name": "python",
   "nbconvert_exporter": "python",
   "pygments_lexer": "ipython3",
   "version": "3.10.8"
  }
 },
 "nbformat": 4,
 "nbformat_minor": 5
}
