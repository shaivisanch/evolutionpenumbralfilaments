{
 "cells": [
  {
   "cell_type": "code",
   "execution_count": null,
   "id": "b2338011-cc31-4978-aec6-00c96ec0d3fe",
   "metadata": {},
   "outputs": [],
   "source": [
    "#CV2 APPROACH\n",
    "#start_point = (40,190)\n",
    "#end_point = (40,200)\n",
    "#color = (0,255,0)\n",
    "#thickness = 9\n",
    "#image = cv2.line(dc_rot, start_point, end_point, color, thickness)\n",
    "\n",
    "#PIL APPROACH\n",
    "#draw = ImageDraw.Draw(dc_rot, mode)\n",
    "#start_point = (40, 190)\n",
    "#end_point = (40, 200)\n",
    "#color = (0, 255, 0)\n",
    "#dash_length = 10\n",
    "#gap_length = 5\n",
    "#dash = [dash_length, gap_length]\n",
    "#draw.line((start_point, end_point), fill=color, width=2, joint='curve', dash=dash)\n",
    "#img.show()"
   ]
  }
 ],
 "metadata": {
  "kernelspec": {
   "display_name": "Python 3 (ipykernel)",
   "language": "python",
   "name": "python3"
  },
  "language_info": {
   "codemirror_mode": {
    "name": "ipython",
    "version": 3
   },
   "file_extension": ".py",
   "mimetype": "text/x-python",
   "name": "python",
   "nbconvert_exporter": "python",
   "pygments_lexer": "ipython3",
   "version": "3.10.8"
  }
 },
 "nbformat": 4,
 "nbformat_minor": 5
}
