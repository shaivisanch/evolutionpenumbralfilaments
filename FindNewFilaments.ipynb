{
 "cells": [
  {
   "cell_type": "code",
   "execution_count": 1,
   "id": "3be85def-1aa9-47c1-a7d4-f486261c8791",
   "metadata": {},
   "outputs": [],
   "source": [
    "#Basic Demonstration\n",
    "import numpy as np\n",
    "from matplotlib import pyplot as plt   \n",
    "import matplotlib.pyplot as plt\n",
    "import pandas as pd\n",
    "import math\n",
    "from astropy.io import fits\n",
    "from astropy.visualization import astropy_mpl_style\n",
    "import cv2\n",
    "plt.style.use(astropy_mpl_style)\n",
    "#plt.style.use(\"default\")\n",
    "#import sys\n",
    "#sys.path.append('/Users/shaivi/mypy/')\n",
    "import tvg\n",
    "from matplotlib import pyplot, image, transforms\n",
    "from scipy import ndimage\n",
    "import skimage\n",
    "\n",
    "from scipy import ndimage\n",
    "import matplotlib.pyplot as plt"
   ]
  },
  {
   "cell_type": "code",
   "execution_count": 2,
   "id": "82cbe115-4286-44c3-bf38-27fdb2af1a2c",
   "metadata": {},
   "outputs": [],
   "source": [
    "conti = fits.open('file:///sanhome/shaivi/data/Phil_Shirts/SPcubes_20170915_224806_conti_index.fits')\n",
    "magincl = fits.open('file:///sanhome/shaivi/data/Phil_Shirts/SPcubes_20170915_224806_magincl_index.fits')\n",
    "magfield = fits.open('file:///sanhome/shaivi/data/Phil_Shirts/SPcubes_20170915_224806_magfield_index.fits')\n",
    "dopp = fits.open('file:///sanhome/shaivi/data/Phil_Shirts/SPcubes_20170915_224806_dopp1_index.fits')\n",
    "\n",
    "num_scans = 59\n",
    "dim = conti[1].data.shape\n",
    "data_conti = np.zeros((dim[0], dim[1], num_scans))\n",
    "data_magincl = np.zeros((dim[0], dim[1], num_scans))\n",
    "data_Bz = np.zeros((dim[0], dim[1], num_scans))\n",
    "#data_dopp = np.zeros((dim[0], dim[1], num_scans))\n",
    "\n",
    "for i in range(num_scans):\n",
    "    data_conti_temp = conti[i+1].data\n",
    "    #data_conti_2=(data_conti_temp - data_conti_temp.min())*(255.0/(data_conti_temp - data_conti_temp.min()).max())\n",
    "    #data_conti[:,:,i] = data_conti_2\n",
    "    data_conti[:,:,i] = data_conti_temp\n",
    "    np.save('/Users/shaivi/Downloads/test_conti.npy', data_conti)\n",
    "   \n",
    "    data_magincl_temp = magincl[i+1].data\n",
    "    #data_magincl_2=(data_magincl_temp - data_magincl_temp.min())*(255.0/(data_magincl_temp - data_magincl_temp.min()).max())\n",
    "    #data_magincl[:,:,i] = data_magincl_2\n",
    "    data_magincl[:,:,i] = data_magincl_temp\n",
    "    np.save('/Users/shaivi/Downloads/test_magincl.npy', data_magincl)\n",
    "\n",
    "    data_magfield_temp = magfield[i+1].data\n",
    "    Bz_temp =  data_magfield_temp*(np.cos(np.array(np.deg2rad(data_magincl_temp))))\n",
    "    #data_Bz_2=(Bz_temp - Bz_temp.min())*(255.0/(Bz_temp - Bz_temp.min()).max())\n",
    "    #data_Bz[:,:,i] = data_Bz_2\n",
    "    data_Bz[:,:,i] = Bz_temp\n",
    "    \n",
    "    np.save('/Users/shaivi/Downloads/test_Bz.npy', data_Bz)\n",
    "    \n",
    "    #data_dopp_temp = dopp[i+1].data\n",
    "    #data_dopp_2=(data_dopp_temp - data_dopp_temp.min())*(255.0/(data_dopp_temp - data_dopp_temp.min()).max())\n",
    "    #data_dopp[:,:,i] = data_dopp_2\n",
    "    #np.save('/Users/shaivi/Downloads/test_dopp1.npy', data_dopp)\n",
    "    \n",
    "dim = data_Bz.shape\n",
    "alltogether = np.zeros((dim[0], dim[1]*3, dim[2]))\n",
    "j = 0; alltogether[:,j*dim[1]:(j+1)*dim[1],:] = data_conti\n",
    "j = 1 ;alltogether[:,j*dim[1]:(j+1)*dim[1],:] = data_magincl\n",
    "j = 2 ;alltogether[:,j*dim[1]:(j+1)*dim[1],:] = data_Bz\n",
    "#j = 3 ;alltogether[:,j*dim[1]:(j+1)*dim[1],:] = data_dopp"
   ]
  },
  {
   "cell_type": "code",
   "execution_count": 65,
   "id": "6cb103f6-a4f7-45a9-860e-587747977f18",
   "metadata": {},
   "outputs": [
    {
     "ename": "IndexError",
     "evalue": "index 59 is out of bounds for axis 2 with size 59",
     "output_type": "error",
     "traceback": [
      "\u001b[0;31m---------------------------------------------------------------------------\u001b[0m",
      "\u001b[0;31mIndexError\u001b[0m                                Traceback (most recent call last)",
      "Cell \u001b[0;32mIn[65], line 7\u001b[0m\n\u001b[1;32m      5\u001b[0m fig, ax \u001b[38;5;241m=\u001b[39m plt\u001b[38;5;241m.\u001b[39msubplots(\u001b[38;5;241m1\u001b[39m,\u001b[38;5;241m3\u001b[39m)\n\u001b[1;32m      6\u001b[0m \u001b[38;5;66;03m#img = datasets.ascent()\u001b[39;00m\n\u001b[0;32m----> 7\u001b[0m ax[\u001b[38;5;241m0\u001b[39m]\u001b[38;5;241m.\u001b[39mimshow(\u001b[43mdc_rot\u001b[49m\u001b[43m[\u001b[49m\u001b[43m:\u001b[49m\u001b[43m,\u001b[49m\u001b[43m:\u001b[49m\u001b[43m,\u001b[49m\u001b[38;5;241;43m59\u001b[39;49m\u001b[43m]\u001b[49m, cmap\u001b[38;5;241m=\u001b[39m\u001b[38;5;124m'\u001b[39m\u001b[38;5;124mafmhot\u001b[39m\u001b[38;5;124m'\u001b[39m, vmin\u001b[38;5;241m=\u001b[39m\u001b[38;5;241m3e3\u001b[39m, vmax\u001b[38;5;241m=\u001b[39m\u001b[38;5;241m20e3\u001b[39m)\n\u001b[1;32m      8\u001b[0m ax[\u001b[38;5;241m0\u001b[39m]\u001b[38;5;241m.\u001b[39mset_axis_off()\n\u001b[1;32m      9\u001b[0m ax[\u001b[38;5;241m1\u001b[39m]\u001b[38;5;241m.\u001b[39mimshow(mi_rot[:,:,\u001b[38;5;241m59\u001b[39m], cmap\u001b[38;5;241m=\u001b[39m\u001b[38;5;124m'\u001b[39m\u001b[38;5;124mjet\u001b[39m\u001b[38;5;124m'\u001b[39m,  vmin\u001b[38;5;241m=\u001b[39m\u001b[38;5;241m0\u001b[39m, vmax\u001b[38;5;241m=\u001b[39m\u001b[38;5;241m180\u001b[39m)\n",
      "\u001b[0;31mIndexError\u001b[0m: index 59 is out of bounds for axis 2 with size 59"
     ]
    },
    {
     "data": {
      "image/png": "[encoded data removed]",
      "text/plain": [
       "<Figure size 800x600 with 3 Axes>"
      ]
     },
     "metadata": {},
     "output_type": "display_data"
    }
   ],
   "source": [
    "dc_rot = ndimage.rotate(data_conti, 0, reshape=False)\n",
    "mi_rot = ndimage.rotate(data_magincl, 0, reshape=False)\n",
    "bz_rot = ndimage.rotate(data_Bz, 0, reshape=False)\n",
    "\n",
    "fig, ax = plt.subplots(1,3)\n",
    "#img = datasets.ascent()\n",
    "ax[0].imshow(dc_rot[:,:,59], cmap='afmhot', vmin=3e3, vmax=20e3)\n",
    "ax[0].set_axis_off()\n",
    "ax[1].imshow(mi_rot[:,:,59], cmap='jet',  vmin=0, vmax=180)\n",
    "ax[1].set_axis_off()\n",
    "ax[2].imshow(bz_rot[:,:,59], cmap='gray', vmin=-1250, vmax=1250)\n",
    "ax[2].set_axis_off()\n",
    "\n",
    "fig.set_layout_engine('tight')\n",
    "plt.show()"
   ]
  },
  {
   "cell_type": "code",
   "execution_count": null,
   "id": "7a62c4f8-af14-4b6f-9fae-8ef45f975df9",
   "metadata": {},
   "outputs": [],
   "source": []
  }
 ],
 "metadata": {
  "kernelspec": {
   "display_name": "Python 3 (ipykernel)",
   "language": "python",
   "name": "python3"
  },
  "language_info": {
   "codemirror_mode": {
    "name": "ipython",
    "version": 3
   },
   "file_extension": ".py",
   "mimetype": "text/x-python",
   "name": "python",
   "nbconvert_exporter": "python",
   "pygments_lexer": "ipython3",
   "version": "3.10.8"
  }
 },
 "nbformat": 4,
 "nbformat_minor": 5
}
