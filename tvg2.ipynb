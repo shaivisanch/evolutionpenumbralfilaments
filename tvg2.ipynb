{
 "cells": [
  {
   "cell_type": "code",
   "execution_count": 2,
   "id": "53009f8e-6059-4d06-b1f6-bf3d63d63e2d",
   "metadata": {},
   "outputs": [],
   "source": [
    "import numpy as np\n",
    "from matplotlib import pyplot as plt                                                                                                                                                                                                                                                                                                                                                                                                                                                                                                                                                                                                                                                                                                                                                                                                                                                                                                                                                                                                                                                                                                                                                                                                                                                                                                                                                                                                                                                                                                                                                                                                                                                                                                                                                                                                                                                                                                                                                                                                                                                                                                                                                                                                                                                                                                                                                                                                                                                                                                                                                                                                                                                                                                                                                                                                                                                                                                                                                                                                                                                                                                                                                                                                                                                                                                                                                                                                                                                                                                                                                                                                                                                                                                                                                                                               \n",
    "\n",
    "import math\n",
    "from astropy.io import fits\n",
    "from astropy.visualization import astropy_mpl_style\n",
    "plt.style.use(astropy_mpl_style)\n",
    "#plt.style.use(\"default\")\n",
    "#import sys\n",
    "#sys.path.append('/Users/shaivi/mypy/')\n",
    "import tvg"
   ]
  },
  {
   "cell_type": "code",
   "execution_count": 3,
   "id": "9f6e93ba-a7c6-4b9d-9101-5a2b46311cf6",
   "metadata": {},
   "outputs": [],
   "source": [
    "conti = fits.open('file:///sanhome/shaivi/data/Phil_Shirts/SPcubes_20170915_224806_conti_index.fits')\n",
    "magincl = fits.open('file:///sanhome/shaivi/data/Phil_Shirts/SPcubes_20170915_224806_magincl_index.fits')\n",
    "magfield = fits.open('file:///sanhome/shaivi/data/Phil_Shirts/SPcubes_20170915_224806_magfield_index.fits')\n",
    "dopp = fits.open('file:///sanhome/shaivi/data/Phil_Shirts/SPcubes_20170915_224806_dopp1_index.fits')\n",
    "\n",
    "num_scans = 59\n",
    "dim = conti[1].data.shape\n",
    "data_conti = np.zeros((dim[0], dim[1], num_scans))\n",
    "data_magincl = np.zeros((dim[0], dim[1], num_scans))\n",
    "data_Bz = np.zeros((dim[0], dim[1], num_scans))\n",
    "data_dopp = np.zeros((dim[0], dim[1], num_scans))\n",
    "\n",
    "for i in range(num_scans):\n",
    "    data_conti_temp = conti[i+1].data\n",
    "    data_conti_2=(data_conti_temp - data_conti_temp.min())*(255.0/(data_conti_temp - data_conti_temp.min()).max())\n",
    "    data_conti[:,:,i] = data_conti_2\n",
    "    np.save('/Users/shaivi/Downloads/test_conti.npy', data_conti)\n",
    "   \n",
    "    data_magincl_temp = magincl[i+1].data\n",
    "    data_magincl_2=(data_magincl_temp - data_magincl_temp.min())*(255.0/(data_magincl_temp - data_magincl_temp.min()).max())\n",
    "    data_magincl[:,:,i] = data_magincl_2\n",
    "    np.save('/Users/shaivi/Downloads/test_magincl.npy', data_magincl)\n",
    "\n",
    "    data_magfield_temp = magfield[i+1].data\n",
    "    Bz_temp =  data_magfield_temp*(np.cos(np.array(np.deg2rad(data_magincl_temp))))\n",
    "    data_Bz_2=(Bz_temp - Bz_temp.min())*(255.0/(Bz_temp - Bz_temp.min()).max())\n",
    "    data_Bz[:,:,i] = data_Bz_2\n",
    "    np.save('/Users/shaivi/Downloads/test_Bz.npy', data_Bz)\n",
    "    \n",
    "    data_dopp_temp = dopp[i+1].data\n",
    "    data_dopp_2=(data_dopp_temp - data_dopp_temp.min())*(255.0/(data_dopp_temp - data_dopp_temp.min()).max())\n",
    "    data_dopp[:,:,i] = data_dopp_2\n",
    "    np.save('/Users/shaivi/Downloads/test_dopp1.npy', data_dopp)"
   ]
  },
  {
   "cell_type": "code",
   "execution_count": 4,
   "id": "913d3147-4b69-4e18-9ca9-6d74556768fb",
   "metadata": {},
   "outputs": [],
   "source": [
    "dim = data_Bz.shape\n",
    "alltogether = np.zeros((dim[0], dim[1], dim[2]*4))\n",
    "j = 0; alltogether[:,:,j*59:(j+1)*59] = data_conti\n",
    "j = 1 ;alltogether[:,:,j*59:(j+1)*59] = data_Bz\n",
    "j = 2 ;alltogether[:,:,j*59:(j+1)*59] = data_magincl\n",
    "j = 3 ;alltogether[:,:,j*59:(j+1)*59] = data_dopp"
   ]
  },
  {
   "cell_type": "code",
   "execution_count": 6,
   "id": "71da7109-ede2-430d-b442-26a7e5394e8f",
   "metadata": {},
   "outputs": [],
   "source": [
    "dim = data_Bz.shape\n",
    "alltogether = np.zeros((dim[0], dim[1]*4, dim[2]))\n",
    "j = 0; alltogether[:,j*dim[1]:(j+1)*dim[1],:] = data_conti\n",
    "j = 1 ;alltogether[:,j*dim[1]:(j+1)*dim[1],:] = data_Bz\n",
    "j = 2 ;alltogether[:,j*dim[1]:(j+1)*dim[1],:] = data_magincl\n",
    "j = 3 ;alltogether[:,j*dim[1]:(j+1)*dim[1],:] = data_dopp"
   ]
  },
  {
   "cell_type": "code",
   "execution_count": null,
   "id": "b91f90c2-8015-4848-a26c-b493efb12f9e",
   "metadata": {},
   "outputs": [],
   "source": [
    "sel_alltog = tvg.show(alltogether, pdim=3, cmap='afmhot')"
   ]
  },
  {
   "cell_type": "code",
   "execution_count": null,
   "id": "bec71e0c-b31f-4a61-ae24-9945ea46da74",
   "metadata": {},
   "outputs": [],
   "source": []
  }
 ],
 "metadata": {
  "kernelspec": {
   "display_name": "Python 3 (ipykernel)",
   "language": "python",
   "name": "python3"
  },
  "language_info": {
   "codemirror_mode": {
    "name": "ipython",
    "version": 3
   },
   "file_extension": ".py",
   "mimetype": "text/x-python",
   "name": "python",
   "nbconvert_exporter": "python",
   "pygments_lexer": "ipython3",
   "version": "3.10.8"
  }
 },
 "nbformat": 4,
 "nbformat_minor": 5
}
