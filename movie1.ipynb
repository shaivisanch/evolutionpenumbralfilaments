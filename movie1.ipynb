{
 "cells": [
  {
   "cell_type": "code",
   "execution_count": 17,
   "id": "00896130-bd5f-4d8b-b304-815211bb855b",
   "metadata": {},
   "outputs": [],
   "source": [
    "import numpy as np\n",
    "import math\n",
    "\n",
    "#Set up matplotlib\n",
    "import matplotlib.pyplot as plt\n",
    "%matplotlib inline\n",
    "from astropy.io import fits"
   ]
  },
  {
   "cell_type": "code",
   "execution_count": 18,
   "id": "d72ae161-6ffa-4fab-8c2c-c6db7d7fc2b2",
   "metadata": {},
   "outputs": [],
   "source": [
    "from astropy.visualization import astropy_mpl_style\n",
    "plt.style.use(astropy_mpl_style)"
   ]
  },
  {
   "cell_type": "code",
   "execution_count": 19,
   "id": "2780679f-2619-48a7-8522-61e07c99ac66",
   "metadata": {},
   "outputs": [],
   "source": [
    "##from astropy.utils.data import get_pkg_data_filename\n",
    "#from astropy.io import fits\n",
    "\n",
    "##image_file = get_pkg_data_filename('/sanhome/shaivi/data/Phil_Shirts/SPcubes_20170915_224806_blapp_index.fits')"
   ]
  },
  {
   "cell_type": "code",
   "execution_count": 20,
   "id": "0a06ef00-af2b-4045-b14b-f8ec33785098",
   "metadata": {},
   "outputs": [
    {
     "name": "stdout",
     "output_type": "stream",
     "text": [
      "Filename: /Users/shaivi/.astropy/cache/download/url/1bea07d76cbf5587379368cad7df7c6e/contents\n",
      "No.    Name      Ver    Type      Cards   Dimensions   Format\n",
      "  0  PRIMARY       1 PrimaryHDU      49   ()      \n",
      "  1                1 ImageHDU        49   (120, 384)   float32   \n",
      "  2                1 ImageHDU        49   (120, 384)   float32   \n",
      "  3                1 ImageHDU        49   (120, 384)   float32   \n",
      "  4                1 ImageHDU        49   (120, 384)   float32   \n",
      "  5                1 ImageHDU        49   (120, 384)   float32   \n",
      "  6                1 ImageHDU        49   (120, 384)   float32   \n",
      "  7                1 ImageHDU        49   (120, 384)   float32   \n",
      "  8                1 ImageHDU        49   (120, 384)   float32   \n",
      "  9                1 ImageHDU        49   (120, 384)   float32   \n",
      " 10                1 ImageHDU        49   (120, 384)   float32   \n",
      " 11                1 ImageHDU        49   (120, 384)   float32   \n",
      " 12                1 ImageHDU        49   (120, 384)   float32   \n",
      " 13                1 ImageHDU        49   (120, 384)   float32   \n",
      " 14                1 ImageHDU        49   (120, 384)   float32   \n",
      " 15                1 ImageHDU        49   (120, 384)   float32   \n",
      " 16                1 ImageHDU        49   (120, 384)   float32   \n",
      " 17                1 ImageHDU        49   (120, 384)   float32   \n",
      " 18                1 ImageHDU        49   (120, 384)   float32   \n",
      " 19                1 ImageHDU        49   (120, 384)   float32   \n",
      " 20                1 ImageHDU        49   (120, 384)   float32   \n",
      " 21                1 ImageHDU        49   (120, 384)   float32   \n",
      " 22                1 ImageHDU        49   (120, 384)   float32   \n",
      " 23                1 ImageHDU        49   (120, 384)   float32   \n",
      " 24                1 ImageHDU        49   (120, 384)   float32   \n",
      " 25                1 ImageHDU        49   (120, 384)   float32   \n",
      " 26                1 ImageHDU        49   (120, 384)   float32   \n",
      " 27                1 ImageHDU        49   (120, 384)   float32   \n",
      " 28                1 ImageHDU        49   (120, 384)   float32   \n",
      " 29                1 ImageHDU        49   (120, 384)   float32   \n",
      " 30                1 ImageHDU        49   (120, 384)   float32   \n",
      " 31                1 ImageHDU        49   (120, 384)   float32   \n",
      " 32                1 ImageHDU        49   (120, 384)   float32   \n",
      " 33                1 ImageHDU        49   (120, 384)   float32   \n",
      " 34                1 ImageHDU        49   (120, 384)   float32   \n",
      " 35                1 ImageHDU        49   (120, 384)   float32   \n",
      " 36                1 ImageHDU        49   (120, 384)   float32   \n",
      " 37                1 ImageHDU        49   (120, 384)   float32   \n",
      " 38                1 ImageHDU        49   (120, 384)   float32   \n",
      " 39                1 ImageHDU        49   (120, 384)   float32   \n",
      " 40                1 ImageHDU        49   (120, 384)   float32   \n",
      " 41                1 ImageHDU        49   (120, 384)   float32   \n",
      " 42                1 ImageHDU        49   (120, 384)   float32   \n",
      " 43                1 ImageHDU        49   (120, 384)   float32   \n",
      " 44                1 ImageHDU        49   (120, 384)   float32   \n",
      " 45                1 ImageHDU        49   (120, 384)   float32   \n",
      " 46                1 ImageHDU        49   (120, 384)   float32   \n",
      " 47                1 ImageHDU        49   (120, 384)   float32   \n",
      " 48                1 ImageHDU        49   (120, 384)   float32   \n",
      " 49                1 ImageHDU        49   (120, 384)   float32   \n",
      " 50                1 ImageHDU        49   (120, 384)   float32   \n",
      " 51                1 ImageHDU        49   (120, 384)   float32   \n",
      " 52                1 ImageHDU        49   (120, 384)   float32   \n",
      " 53                1 ImageHDU        49   (120, 384)   float32   \n",
      " 54                1 ImageHDU        49   (120, 384)   float32   \n",
      " 55                1 ImageHDU        49   (120, 384)   float32   \n",
      " 56                1 ImageHDU        49   (120, 384)   float32   \n",
      " 57                1 ImageHDU        49   (120, 384)   float32   \n",
      " 58                1 ImageHDU        49   (120, 384)   float32   \n",
      " 59                1 ImageHDU        49   (120, 384)   float32   \n"
     ]
    },
    {
     "data": {
      "text/plain": [
       "<bound method Header.keys of SIMPLE  =                    T / Written by IDL:  Tue Jul 31 18:20:15 2018      \n",
       "BITPIX  =                   16 / Number of bits per data pixel                  \n",
       "NAXIS   =                    0 / Number of data axes                            \n",
       "EXTEND  =                    T / FITS data may contain extensions               \n",
       "DATE    = '2018-08-01'         / Creation UTC (CCCC-MM-DD) date of FITS header  \n",
       "COMMENT FITS (Flexible Image Transport System) format is defined in 'Astronomy  \n",
       "COMMENT and Astrophysics', volume 376, page 359; bibcode 2001A&A...376..359H    \n",
       "TELESCOP= 'HINODE  '           /                                                \n",
       "INSTRUME= 'SOT/SP  '           /                                                \n",
       "PROG_VER=                  463 /                                                \n",
       "SEQN_VER=                  496 /                                                \n",
       "PARM_VER=                  481 /                                                \n",
       "DATE_OBS= '15-Sep-2017 22:51:36.064' /                                          \n",
       "CRPIX1  =        60.5000000000 /                                                \n",
       "CRPIX2  =        192.500000000 /                                                \n",
       "CRVAL1  =       -16.2612735023 /                                                \n",
       "CRVAL2  =        21.3578605561 /                                                \n",
       "CDELT1  =       0.148569002748 /                                                \n",
       "CDELT2  =       0.159899994731 /                                                \n",
       "CUNIT1  = 'arcseconds'         /                                                \n",
       "CUNIT2  = 'arcseconds'         /                                                \n",
       "CTYPE1  = 'Solar-X '           /                                                \n",
       "CTYPE2  = 'Solar-Y '           /                                                \n",
       "CROTA1  =       0.411978989840 /                                                \n",
       "CROTA2  =       0.671978950500 /                                                \n",
       "XCEN    =       -16.2612735023 /                                                \n",
       "YCEN    =        21.3578605561 /                                                \n",
       "SPMAPCTR=                   38 /                                                \n",
       "SPCCDIX0=                  320 /                                                \n",
       "SPCCDIX1=                  703 /                                                \n",
       "MACROID =                27316 /                                                \n",
       "NSLITPOS=                  120 /                                                \n",
       "NUM_SIDE=                    1 /                                                \n",
       "WAVE    = '6302A   '           /                                                \n",
       "SP_EXTID=                   11 /                                                \n",
       "SCN_STEP=                    1 /                                                \n",
       "SCN_SUM =                    1 /                                                \n",
       "SCN_RPT =                    1 /                                                \n",
       "CAMSSUM =                    1 /                                                \n",
       "EXPTIME =        3.20000000000 /                                                \n",
       "TSTART  = '2017-09-15T22:48:06.937' /                                           \n",
       "TEND    = '2017-09-16T05:48:03.331' /                                           \n",
       "MAPID   = '124576  '           /                                                \n",
       "BTYPE   = 'B_LOS   '           /                                                \n",
       "BUNIT   = 'Gauss   '           /                                                \n",
       "LVL_NUM =              1.50000 /                                                \n",
       "P_ANGLE =        24.2128619787 /                                                \n",
       "B_ANGLE =        7.19150301274 /                                                \n",
       "SOLAR_RA=        953.769601368 /                                                >"
      ]
     },
     "execution_count": 20,
     "metadata": {},
     "output_type": "execute_result"
    }
   ],
   "source": [
    "magfield = fits.open('file:///sanhome/shaivi/data/Phil_Shirts/SPcubes_20170915_224806_magfield_index.fits')\n",
    "magfield.info()\n",
    "magfield[0].header.keys"
   ]
  },
  {
   "cell_type": "code",
   "execution_count": 21,
   "id": "c33cf850-dc31-4c0f-ac16-7c67212b7b55",
   "metadata": {},
   "outputs": [
    {
     "ename": "TypeError",
     "evalue": "Image data of dtype object cannot be converted to float",
     "output_type": "error",
     "traceback": [
      "\u001b[0;31m---------------------------------------------------------------------------\u001b[0m",
      "\u001b[0;31mTypeError\u001b[0m                                 Traceback (most recent call last)",
      "Input \u001b[0;32mIn [21]\u001b[0m, in \u001b[0;36m<cell line: 2>\u001b[0;34m()\u001b[0m\n\u001b[1;32m      1\u001b[0m data \u001b[38;5;241m=\u001b[39m magfield[\u001b[38;5;241m0\u001b[39m]\u001b[38;5;241m.\u001b[39mdata\n\u001b[0;32m----> 2\u001b[0m \u001b[43mplt\u001b[49m\u001b[38;5;241;43m.\u001b[39;49m\u001b[43mimshow\u001b[49m\u001b[43m(\u001b[49m\u001b[43mdata\u001b[49m\u001b[43m,\u001b[49m\u001b[43mcmap\u001b[49m\u001b[43m \u001b[49m\u001b[38;5;241;43m=\u001b[39;49m\u001b[43m \u001b[49m\u001b[38;5;124;43m'\u001b[39;49m\u001b[38;5;124;43mgray\u001b[39;49m\u001b[38;5;124;43m'\u001b[39;49m\u001b[43m)\u001b[49m\n",
      "File \u001b[0;32m~/mambaforge/envs/work/lib/python3.10/site-packages/matplotlib/_api/deprecation.py:459\u001b[0m, in \u001b[0;36mmake_keyword_only.<locals>.wrapper\u001b[0;34m(*args, **kwargs)\u001b[0m\n\u001b[1;32m    453\u001b[0m \u001b[38;5;28;01mif\u001b[39;00m \u001b[38;5;28mlen\u001b[39m(args) \u001b[38;5;241m>\u001b[39m name_idx:\n\u001b[1;32m    454\u001b[0m     warn_deprecated(\n\u001b[1;32m    455\u001b[0m         since, message\u001b[38;5;241m=\u001b[39m\u001b[38;5;124m\"\u001b[39m\u001b[38;5;124mPassing the \u001b[39m\u001b[38;5;132;01m%(name)s\u001b[39;00m\u001b[38;5;124m \u001b[39m\u001b[38;5;132;01m%(obj_type)s\u001b[39;00m\u001b[38;5;124m \u001b[39m\u001b[38;5;124m\"\u001b[39m\n\u001b[1;32m    456\u001b[0m         \u001b[38;5;124m\"\u001b[39m\u001b[38;5;124mpositionally is deprecated since Matplotlib \u001b[39m\u001b[38;5;132;01m%(since)s\u001b[39;00m\u001b[38;5;124m; the \u001b[39m\u001b[38;5;124m\"\u001b[39m\n\u001b[1;32m    457\u001b[0m         \u001b[38;5;124m\"\u001b[39m\u001b[38;5;124mparameter will become keyword-only \u001b[39m\u001b[38;5;132;01m%(removal)s\u001b[39;00m\u001b[38;5;124m.\u001b[39m\u001b[38;5;124m\"\u001b[39m,\n\u001b[1;32m    458\u001b[0m         name\u001b[38;5;241m=\u001b[39mname, obj_type\u001b[38;5;241m=\u001b[39m\u001b[38;5;124mf\u001b[39m\u001b[38;5;124m\"\u001b[39m\u001b[38;5;124mparameter of \u001b[39m\u001b[38;5;132;01m{\u001b[39;00mfunc\u001b[38;5;241m.\u001b[39m\u001b[38;5;18m__name__\u001b[39m\u001b[38;5;132;01m}\u001b[39;00m\u001b[38;5;124m()\u001b[39m\u001b[38;5;124m\"\u001b[39m)\n\u001b[0;32m--> 459\u001b[0m \u001b[38;5;28;01mreturn\u001b[39;00m \u001b[43mfunc\u001b[49m\u001b[43m(\u001b[49m\u001b[38;5;241;43m*\u001b[39;49m\u001b[43margs\u001b[49m\u001b[43m,\u001b[49m\u001b[43m \u001b[49m\u001b[38;5;241;43m*\u001b[39;49m\u001b[38;5;241;43m*\u001b[39;49m\u001b[43mkwargs\u001b[49m\u001b[43m)\u001b[49m\n",
      "File \u001b[0;32m~/mambaforge/envs/work/lib/python3.10/site-packages/matplotlib/pyplot.py:2652\u001b[0m, in \u001b[0;36mimshow\u001b[0;34m(X, cmap, norm, aspect, interpolation, alpha, vmin, vmax, origin, extent, interpolation_stage, filternorm, filterrad, resample, url, data, **kwargs)\u001b[0m\n\u001b[1;32m   2646\u001b[0m \u001b[38;5;129m@_copy_docstring_and_deprecators\u001b[39m(Axes\u001b[38;5;241m.\u001b[39mimshow)\n\u001b[1;32m   2647\u001b[0m \u001b[38;5;28;01mdef\u001b[39;00m \u001b[38;5;21mimshow\u001b[39m(\n\u001b[1;32m   2648\u001b[0m         X, cmap\u001b[38;5;241m=\u001b[39m\u001b[38;5;28;01mNone\u001b[39;00m, norm\u001b[38;5;241m=\u001b[39m\u001b[38;5;28;01mNone\u001b[39;00m, aspect\u001b[38;5;241m=\u001b[39m\u001b[38;5;28;01mNone\u001b[39;00m, interpolation\u001b[38;5;241m=\u001b[39m\u001b[38;5;28;01mNone\u001b[39;00m,\n\u001b[1;32m   2649\u001b[0m         alpha\u001b[38;5;241m=\u001b[39m\u001b[38;5;28;01mNone\u001b[39;00m, vmin\u001b[38;5;241m=\u001b[39m\u001b[38;5;28;01mNone\u001b[39;00m, vmax\u001b[38;5;241m=\u001b[39m\u001b[38;5;28;01mNone\u001b[39;00m, origin\u001b[38;5;241m=\u001b[39m\u001b[38;5;28;01mNone\u001b[39;00m, extent\u001b[38;5;241m=\u001b[39m\u001b[38;5;28;01mNone\u001b[39;00m, \u001b[38;5;241m*\u001b[39m,\n\u001b[1;32m   2650\u001b[0m         interpolation_stage\u001b[38;5;241m=\u001b[39m\u001b[38;5;28;01mNone\u001b[39;00m, filternorm\u001b[38;5;241m=\u001b[39m\u001b[38;5;28;01mTrue\u001b[39;00m, filterrad\u001b[38;5;241m=\u001b[39m\u001b[38;5;241m4.0\u001b[39m,\n\u001b[1;32m   2651\u001b[0m         resample\u001b[38;5;241m=\u001b[39m\u001b[38;5;28;01mNone\u001b[39;00m, url\u001b[38;5;241m=\u001b[39m\u001b[38;5;28;01mNone\u001b[39;00m, data\u001b[38;5;241m=\u001b[39m\u001b[38;5;28;01mNone\u001b[39;00m, \u001b[38;5;241m*\u001b[39m\u001b[38;5;241m*\u001b[39mkwargs):\n\u001b[0;32m-> 2652\u001b[0m     __ret \u001b[38;5;241m=\u001b[39m \u001b[43mgca\u001b[49m\u001b[43m(\u001b[49m\u001b[43m)\u001b[49m\u001b[38;5;241;43m.\u001b[39;49m\u001b[43mimshow\u001b[49m\u001b[43m(\u001b[49m\n\u001b[1;32m   2653\u001b[0m \u001b[43m        \u001b[49m\u001b[43mX\u001b[49m\u001b[43m,\u001b[49m\u001b[43m \u001b[49m\u001b[43mcmap\u001b[49m\u001b[38;5;241;43m=\u001b[39;49m\u001b[43mcmap\u001b[49m\u001b[43m,\u001b[49m\u001b[43m \u001b[49m\u001b[43mnorm\u001b[49m\u001b[38;5;241;43m=\u001b[39;49m\u001b[43mnorm\u001b[49m\u001b[43m,\u001b[49m\u001b[43m \u001b[49m\u001b[43maspect\u001b[49m\u001b[38;5;241;43m=\u001b[39;49m\u001b[43maspect\u001b[49m\u001b[43m,\u001b[49m\n\u001b[1;32m   2654\u001b[0m \u001b[43m        \u001b[49m\u001b[43minterpolation\u001b[49m\u001b[38;5;241;43m=\u001b[39;49m\u001b[43minterpolation\u001b[49m\u001b[43m,\u001b[49m\u001b[43m \u001b[49m\u001b[43malpha\u001b[49m\u001b[38;5;241;43m=\u001b[39;49m\u001b[43malpha\u001b[49m\u001b[43m,\u001b[49m\u001b[43m \u001b[49m\u001b[43mvmin\u001b[49m\u001b[38;5;241;43m=\u001b[39;49m\u001b[43mvmin\u001b[49m\u001b[43m,\u001b[49m\n\u001b[1;32m   2655\u001b[0m \u001b[43m        \u001b[49m\u001b[43mvmax\u001b[49m\u001b[38;5;241;43m=\u001b[39;49m\u001b[43mvmax\u001b[49m\u001b[43m,\u001b[49m\u001b[43m \u001b[49m\u001b[43morigin\u001b[49m\u001b[38;5;241;43m=\u001b[39;49m\u001b[43morigin\u001b[49m\u001b[43m,\u001b[49m\u001b[43m \u001b[49m\u001b[43mextent\u001b[49m\u001b[38;5;241;43m=\u001b[39;49m\u001b[43mextent\u001b[49m\u001b[43m,\u001b[49m\n\u001b[1;32m   2656\u001b[0m \u001b[43m        \u001b[49m\u001b[43minterpolation_stage\u001b[49m\u001b[38;5;241;43m=\u001b[39;49m\u001b[43minterpolation_stage\u001b[49m\u001b[43m,\u001b[49m\n\u001b[1;32m   2657\u001b[0m \u001b[43m        \u001b[49m\u001b[43mfilternorm\u001b[49m\u001b[38;5;241;43m=\u001b[39;49m\u001b[43mfilternorm\u001b[49m\u001b[43m,\u001b[49m\u001b[43m \u001b[49m\u001b[43mfilterrad\u001b[49m\u001b[38;5;241;43m=\u001b[39;49m\u001b[43mfilterrad\u001b[49m\u001b[43m,\u001b[49m\u001b[43m \u001b[49m\u001b[43mresample\u001b[49m\u001b[38;5;241;43m=\u001b[39;49m\u001b[43mresample\u001b[49m\u001b[43m,\u001b[49m\n\u001b[1;32m   2658\u001b[0m \u001b[43m        \u001b[49m\u001b[43murl\u001b[49m\u001b[38;5;241;43m=\u001b[39;49m\u001b[43murl\u001b[49m\u001b[43m,\u001b[49m\u001b[43m \u001b[49m\u001b[38;5;241;43m*\u001b[39;49m\u001b[38;5;241;43m*\u001b[39;49m\u001b[43m(\u001b[49m\u001b[43m{\u001b[49m\u001b[38;5;124;43m\"\u001b[39;49m\u001b[38;5;124;43mdata\u001b[39;49m\u001b[38;5;124;43m\"\u001b[39;49m\u001b[43m:\u001b[49m\u001b[43m \u001b[49m\u001b[43mdata\u001b[49m\u001b[43m}\u001b[49m\u001b[43m \u001b[49m\u001b[38;5;28;43;01mif\u001b[39;49;00m\u001b[43m \u001b[49m\u001b[43mdata\u001b[49m\u001b[43m \u001b[49m\u001b[38;5;129;43;01mis\u001b[39;49;00m\u001b[43m \u001b[49m\u001b[38;5;129;43;01mnot\u001b[39;49;00m\u001b[43m \u001b[49m\u001b[38;5;28;43;01mNone\u001b[39;49;00m\u001b[43m \u001b[49m\u001b[38;5;28;43;01melse\u001b[39;49;00m\u001b[43m \u001b[49m\u001b[43m{\u001b[49m\u001b[43m}\u001b[49m\u001b[43m)\u001b[49m\u001b[43m,\u001b[49m\n\u001b[1;32m   2659\u001b[0m \u001b[43m        \u001b[49m\u001b[38;5;241;43m*\u001b[39;49m\u001b[38;5;241;43m*\u001b[39;49m\u001b[43mkwargs\u001b[49m\u001b[43m)\u001b[49m\n\u001b[1;32m   2660\u001b[0m     sci(__ret)\n\u001b[1;32m   2661\u001b[0m     \u001b[38;5;28;01mreturn\u001b[39;00m __ret\n",
      "File \u001b[0;32m~/mambaforge/envs/work/lib/python3.10/site-packages/matplotlib/_api/deprecation.py:459\u001b[0m, in \u001b[0;36mmake_keyword_only.<locals>.wrapper\u001b[0;34m(*args, **kwargs)\u001b[0m\n\u001b[1;32m    453\u001b[0m \u001b[38;5;28;01mif\u001b[39;00m \u001b[38;5;28mlen\u001b[39m(args) \u001b[38;5;241m>\u001b[39m name_idx:\n\u001b[1;32m    454\u001b[0m     warn_deprecated(\n\u001b[1;32m    455\u001b[0m         since, message\u001b[38;5;241m=\u001b[39m\u001b[38;5;124m\"\u001b[39m\u001b[38;5;124mPassing the \u001b[39m\u001b[38;5;132;01m%(name)s\u001b[39;00m\u001b[38;5;124m \u001b[39m\u001b[38;5;132;01m%(obj_type)s\u001b[39;00m\u001b[38;5;124m \u001b[39m\u001b[38;5;124m\"\u001b[39m\n\u001b[1;32m    456\u001b[0m         \u001b[38;5;124m\"\u001b[39m\u001b[38;5;124mpositionally is deprecated since Matplotlib \u001b[39m\u001b[38;5;132;01m%(since)s\u001b[39;00m\u001b[38;5;124m; the \u001b[39m\u001b[38;5;124m\"\u001b[39m\n\u001b[1;32m    457\u001b[0m         \u001b[38;5;124m\"\u001b[39m\u001b[38;5;124mparameter will become keyword-only \u001b[39m\u001b[38;5;132;01m%(removal)s\u001b[39;00m\u001b[38;5;124m.\u001b[39m\u001b[38;5;124m\"\u001b[39m,\n\u001b[1;32m    458\u001b[0m         name\u001b[38;5;241m=\u001b[39mname, obj_type\u001b[38;5;241m=\u001b[39m\u001b[38;5;124mf\u001b[39m\u001b[38;5;124m\"\u001b[39m\u001b[38;5;124mparameter of \u001b[39m\u001b[38;5;132;01m{\u001b[39;00mfunc\u001b[38;5;241m.\u001b[39m\u001b[38;5;18m__name__\u001b[39m\u001b[38;5;132;01m}\u001b[39;00m\u001b[38;5;124m()\u001b[39m\u001b[38;5;124m\"\u001b[39m)\n\u001b[0;32m--> 459\u001b[0m \u001b[38;5;28;01mreturn\u001b[39;00m \u001b[43mfunc\u001b[49m\u001b[43m(\u001b[49m\u001b[38;5;241;43m*\u001b[39;49m\u001b[43margs\u001b[49m\u001b[43m,\u001b[49m\u001b[43m \u001b[49m\u001b[38;5;241;43m*\u001b[39;49m\u001b[38;5;241;43m*\u001b[39;49m\u001b[43mkwargs\u001b[49m\u001b[43m)\u001b[49m\n",
      "File \u001b[0;32m~/mambaforge/envs/work/lib/python3.10/site-packages/matplotlib/__init__.py:1412\u001b[0m, in \u001b[0;36m_preprocess_data.<locals>.inner\u001b[0;34m(ax, data, *args, **kwargs)\u001b[0m\n\u001b[1;32m   1409\u001b[0m \u001b[38;5;129m@functools\u001b[39m\u001b[38;5;241m.\u001b[39mwraps(func)\n\u001b[1;32m   1410\u001b[0m \u001b[38;5;28;01mdef\u001b[39;00m \u001b[38;5;21minner\u001b[39m(ax, \u001b[38;5;241m*\u001b[39margs, data\u001b[38;5;241m=\u001b[39m\u001b[38;5;28;01mNone\u001b[39;00m, \u001b[38;5;241m*\u001b[39m\u001b[38;5;241m*\u001b[39mkwargs):\n\u001b[1;32m   1411\u001b[0m     \u001b[38;5;28;01mif\u001b[39;00m data \u001b[38;5;129;01mis\u001b[39;00m \u001b[38;5;28;01mNone\u001b[39;00m:\n\u001b[0;32m-> 1412\u001b[0m         \u001b[38;5;28;01mreturn\u001b[39;00m \u001b[43mfunc\u001b[49m\u001b[43m(\u001b[49m\u001b[43max\u001b[49m\u001b[43m,\u001b[49m\u001b[43m \u001b[49m\u001b[38;5;241;43m*\u001b[39;49m\u001b[38;5;28;43mmap\u001b[39;49m\u001b[43m(\u001b[49m\u001b[43msanitize_sequence\u001b[49m\u001b[43m,\u001b[49m\u001b[43m \u001b[49m\u001b[43margs\u001b[49m\u001b[43m)\u001b[49m\u001b[43m,\u001b[49m\u001b[43m \u001b[49m\u001b[38;5;241;43m*\u001b[39;49m\u001b[38;5;241;43m*\u001b[39;49m\u001b[43mkwargs\u001b[49m\u001b[43m)\u001b[49m\n\u001b[1;32m   1414\u001b[0m     bound \u001b[38;5;241m=\u001b[39m new_sig\u001b[38;5;241m.\u001b[39mbind(ax, \u001b[38;5;241m*\u001b[39margs, \u001b[38;5;241m*\u001b[39m\u001b[38;5;241m*\u001b[39mkwargs)\n\u001b[1;32m   1415\u001b[0m     auto_label \u001b[38;5;241m=\u001b[39m (bound\u001b[38;5;241m.\u001b[39marguments\u001b[38;5;241m.\u001b[39mget(label_namer)\n\u001b[1;32m   1416\u001b[0m                   \u001b[38;5;129;01mor\u001b[39;00m bound\u001b[38;5;241m.\u001b[39mkwargs\u001b[38;5;241m.\u001b[39mget(label_namer))\n",
      "File \u001b[0;32m~/mambaforge/envs/work/lib/python3.10/site-packages/matplotlib/axes/_axes.py:5481\u001b[0m, in \u001b[0;36mAxes.imshow\u001b[0;34m(self, X, cmap, norm, aspect, interpolation, alpha, vmin, vmax, origin, extent, interpolation_stage, filternorm, filterrad, resample, url, **kwargs)\u001b[0m\n\u001b[1;32m   5474\u001b[0m \u001b[38;5;28mself\u001b[39m\u001b[38;5;241m.\u001b[39mset_aspect(aspect)\n\u001b[1;32m   5475\u001b[0m im \u001b[38;5;241m=\u001b[39m mimage\u001b[38;5;241m.\u001b[39mAxesImage(\u001b[38;5;28mself\u001b[39m, cmap, norm, interpolation,\n\u001b[1;32m   5476\u001b[0m                       origin, extent, filternorm\u001b[38;5;241m=\u001b[39mfilternorm,\n\u001b[1;32m   5477\u001b[0m                       filterrad\u001b[38;5;241m=\u001b[39mfilterrad, resample\u001b[38;5;241m=\u001b[39mresample,\n\u001b[1;32m   5478\u001b[0m                       interpolation_stage\u001b[38;5;241m=\u001b[39minterpolation_stage,\n\u001b[1;32m   5479\u001b[0m                       \u001b[38;5;241m*\u001b[39m\u001b[38;5;241m*\u001b[39mkwargs)\n\u001b[0;32m-> 5481\u001b[0m \u001b[43mim\u001b[49m\u001b[38;5;241;43m.\u001b[39;49m\u001b[43mset_data\u001b[49m\u001b[43m(\u001b[49m\u001b[43mX\u001b[49m\u001b[43m)\u001b[49m\n\u001b[1;32m   5482\u001b[0m im\u001b[38;5;241m.\u001b[39mset_alpha(alpha)\n\u001b[1;32m   5483\u001b[0m \u001b[38;5;28;01mif\u001b[39;00m im\u001b[38;5;241m.\u001b[39mget_clip_path() \u001b[38;5;129;01mis\u001b[39;00m \u001b[38;5;28;01mNone\u001b[39;00m:\n\u001b[1;32m   5484\u001b[0m     \u001b[38;5;66;03m# image does not already have clipping set, clip to axes patch\u001b[39;00m\n",
      "File \u001b[0;32m~/mambaforge/envs/work/lib/python3.10/site-packages/matplotlib/image.py:706\u001b[0m, in \u001b[0;36m_ImageBase.set_data\u001b[0;34m(self, A)\u001b[0m\n\u001b[1;32m    702\u001b[0m \u001b[38;5;28mself\u001b[39m\u001b[38;5;241m.\u001b[39m_A \u001b[38;5;241m=\u001b[39m cbook\u001b[38;5;241m.\u001b[39msafe_masked_invalid(A, copy\u001b[38;5;241m=\u001b[39m\u001b[38;5;28;01mTrue\u001b[39;00m)\n\u001b[1;32m    704\u001b[0m \u001b[38;5;28;01mif\u001b[39;00m (\u001b[38;5;28mself\u001b[39m\u001b[38;5;241m.\u001b[39m_A\u001b[38;5;241m.\u001b[39mdtype \u001b[38;5;241m!=\u001b[39m np\u001b[38;5;241m.\u001b[39muint8 \u001b[38;5;129;01mand\u001b[39;00m\n\u001b[1;32m    705\u001b[0m         \u001b[38;5;129;01mnot\u001b[39;00m np\u001b[38;5;241m.\u001b[39mcan_cast(\u001b[38;5;28mself\u001b[39m\u001b[38;5;241m.\u001b[39m_A\u001b[38;5;241m.\u001b[39mdtype, \u001b[38;5;28mfloat\u001b[39m, \u001b[38;5;124m\"\u001b[39m\u001b[38;5;124msame_kind\u001b[39m\u001b[38;5;124m\"\u001b[39m)):\n\u001b[0;32m--> 706\u001b[0m     \u001b[38;5;28;01mraise\u001b[39;00m \u001b[38;5;167;01mTypeError\u001b[39;00m(\u001b[38;5;124m\"\u001b[39m\u001b[38;5;124mImage data of dtype \u001b[39m\u001b[38;5;132;01m{}\u001b[39;00m\u001b[38;5;124m cannot be converted to \u001b[39m\u001b[38;5;124m\"\u001b[39m\n\u001b[1;32m    707\u001b[0m                     \u001b[38;5;124m\"\u001b[39m\u001b[38;5;124mfloat\u001b[39m\u001b[38;5;124m\"\u001b[39m\u001b[38;5;241m.\u001b[39mformat(\u001b[38;5;28mself\u001b[39m\u001b[38;5;241m.\u001b[39m_A\u001b[38;5;241m.\u001b[39mdtype))\n\u001b[1;32m    709\u001b[0m \u001b[38;5;28;01mif\u001b[39;00m \u001b[38;5;28mself\u001b[39m\u001b[38;5;241m.\u001b[39m_A\u001b[38;5;241m.\u001b[39mndim \u001b[38;5;241m==\u001b[39m \u001b[38;5;241m3\u001b[39m \u001b[38;5;129;01mand\u001b[39;00m \u001b[38;5;28mself\u001b[39m\u001b[38;5;241m.\u001b[39m_A\u001b[38;5;241m.\u001b[39mshape[\u001b[38;5;241m-\u001b[39m\u001b[38;5;241m1\u001b[39m] \u001b[38;5;241m==\u001b[39m \u001b[38;5;241m1\u001b[39m:\n\u001b[1;32m    710\u001b[0m     \u001b[38;5;66;03m# If just one dimension assume scalar and apply colormap\u001b[39;00m\n\u001b[1;32m    711\u001b[0m     \u001b[38;5;28mself\u001b[39m\u001b[38;5;241m.\u001b[39m_A \u001b[38;5;241m=\u001b[39m \u001b[38;5;28mself\u001b[39m\u001b[38;5;241m.\u001b[39m_A[:, :, \u001b[38;5;241m0\u001b[39m]\n",
      "\u001b[0;31mTypeError\u001b[0m: Image data of dtype object cannot be converted to float"
     ]
    },
    {
     "data": {
      "image/png": "[encoded data removed]",
      "text/plain": [
       "<Figure size 576x432 with 1 Axes>"
      ]
     },
     "metadata": {},
     "output_type": "display_data"
    }
   ],
   "source": [
    "data = magfield[0].data\n",
    "plt.imshow(data,cmap = 'gray')"
   ]
  },
  {
   "cell_type": "code",
   "execution_count": 22,
   "id": "77f8dffb-b692-424d-8b51-cab39664eb00",
   "metadata": {},
   "outputs": [
    {
     "name": "stdout",
     "output_type": "stream",
     "text": [
      "Filename: /Users/shaivi/.astropy/cache/download/url/5a8b46f7e378df09ee8f4eafa394613f/contents\n",
      "No.    Name      Ver    Type      Cards   Dimensions   Format\n",
      "  0  PRIMARY       1 PrimaryHDU      49   ()      \n",
      "  1                1 ImageHDU        49   (120, 384)   float32   \n",
      "  2                1 ImageHDU        49   (120, 384)   float32   \n",
      "  3                1 ImageHDU        49   (120, 384)   float32   \n",
      "  4                1 ImageHDU        49   (120, 384)   float32   \n",
      "  5                1 ImageHDU        49   (120, 384)   float32   \n",
      "  6                1 ImageHDU        49   (120, 384)   float32   \n",
      "  7                1 ImageHDU        49   (120, 384)   float32   \n",
      "  8                1 ImageHDU        49   (120, 384)   float32   \n",
      "  9                1 ImageHDU        49   (120, 384)   float32   \n",
      " 10                1 ImageHDU        49   (120, 384)   float32   \n",
      " 11                1 ImageHDU        49   (120, 384)   float32   \n",
      " 12                1 ImageHDU        49   (120, 384)   float32   \n",
      " 13                1 ImageHDU        49   (120, 384)   float32   \n",
      " 14                1 ImageHDU        49   (120, 384)   float32   \n",
      " 15                1 ImageHDU        49   (120, 384)   float32   \n",
      " 16                1 ImageHDU        49   (120, 384)   float32   \n",
      " 17                1 ImageHDU        49   (120, 384)   float32   \n",
      " 18                1 ImageHDU        49   (120, 384)   float32   \n",
      " 19                1 ImageHDU        49   (120, 384)   float32   \n",
      " 20                1 ImageHDU        49   (120, 384)   float32   \n",
      " 21                1 ImageHDU        49   (120, 384)   float32   \n",
      " 22                1 ImageHDU        49   (120, 384)   float32   \n",
      " 23                1 ImageHDU        49   (120, 384)   float32   \n",
      " 24                1 ImageHDU        49   (120, 384)   float32   \n",
      " 25                1 ImageHDU        49   (120, 384)   float32   \n",
      " 26                1 ImageHDU        49   (120, 384)   float32   \n",
      " 27                1 ImageHDU        49   (120, 384)   float32   \n",
      " 28                1 ImageHDU        49   (120, 384)   float32   \n",
      " 29                1 ImageHDU        49   (120, 384)   float32   \n",
      " 30                1 ImageHDU        49   (120, 384)   float32   \n",
      " 31                1 ImageHDU        49   (120, 384)   float32   \n",
      " 32                1 ImageHDU        49   (120, 384)   float32   \n",
      " 33                1 ImageHDU        49   (120, 384)   float32   \n",
      " 34                1 ImageHDU        49   (120, 384)   float32   \n",
      " 35                1 ImageHDU        49   (120, 384)   float32   \n",
      " 36                1 ImageHDU        49   (120, 384)   float32   \n",
      " 37                1 ImageHDU        49   (120, 384)   float32   \n",
      " 38                1 ImageHDU        49   (120, 384)   float32   \n",
      " 39                1 ImageHDU        49   (120, 384)   float32   \n",
      " 40                1 ImageHDU        49   (120, 384)   float32   \n",
      " 41                1 ImageHDU        49   (120, 384)   float32   \n",
      " 42                1 ImageHDU        49   (120, 384)   float32   \n",
      " 43                1 ImageHDU        49   (120, 384)   float32   \n",
      " 44                1 ImageHDU        49   (120, 384)   float32   \n",
      " 45                1 ImageHDU        49   (120, 384)   float32   \n",
      " 46                1 ImageHDU        49   (120, 384)   float32   \n",
      " 47                1 ImageHDU        49   (120, 384)   float32   \n",
      " 48                1 ImageHDU        49   (120, 384)   float32   \n",
      " 49                1 ImageHDU        49   (120, 384)   float32   \n",
      " 50                1 ImageHDU        49   (120, 384)   float32   \n",
      " 51                1 ImageHDU        49   (120, 384)   float32   \n",
      " 52                1 ImageHDU        49   (120, 384)   float32   \n",
      " 53                1 ImageHDU        49   (120, 384)   float32   \n",
      " 54                1 ImageHDU        49   (120, 384)   float32   \n",
      " 55                1 ImageHDU        49   (120, 384)   float32   \n",
      " 56                1 ImageHDU        49   (120, 384)   float32   \n",
      " 57                1 ImageHDU        49   (120, 384)   float32   \n",
      " 58                1 ImageHDU        49   (120, 384)   float32   \n",
      " 59                1 ImageHDU        49   (120, 384)   float32   \n"
     ]
    },
    {
     "data": {
      "text/plain": [
       "<bound method Header.keys of SIMPLE  =                    T / Written by IDL:  Tue Jul 31 18:20:15 2018      \n",
       "BITPIX  =                   16 / Number of bits per data pixel                  \n",
       "NAXIS   =                    0 / Number of data axes                            \n",
       "EXTEND  =                    T / FITS data may contain extensions               \n",
       "DATE    = '2018-08-01'         / Creation UTC (CCCC-MM-DD) date of FITS header  \n",
       "COMMENT FITS (Flexible Image Transport System) format is defined in 'Astronomy  \n",
       "COMMENT and Astrophysics', volume 376, page 359; bibcode 2001A&A...376..359H    \n",
       "TELESCOP= 'HINODE  '           /                                                \n",
       "INSTRUME= 'SOT/SP  '           /                                                \n",
       "PROG_VER=                  463 /                                                \n",
       "SEQN_VER=                  496 /                                                \n",
       "PARM_VER=                  481 /                                                \n",
       "DATE_OBS= '15-Sep-2017 22:51:36.064' /                                          \n",
       "CRPIX1  =        60.5000000000 /                                                \n",
       "CRPIX2  =        192.500000000 /                                                \n",
       "CRVAL1  =       -16.2612735023 /                                                \n",
       "CRVAL2  =        21.3578605561 /                                                \n",
       "CDELT1  =       0.148569002748 /                                                \n",
       "CDELT2  =       0.159899994731 /                                                \n",
       "CUNIT1  = 'arcseconds'         /                                                \n",
       "CUNIT2  = 'arcseconds'         /                                                \n",
       "CTYPE1  = 'Solar-X '           /                                                \n",
       "CTYPE2  = 'Solar-Y '           /                                                \n",
       "CROTA1  =       0.411978989840 /                                                \n",
       "CROTA2  =       0.671978950500 /                                                \n",
       "XCEN    =       -16.2612735023 /                                                \n",
       "YCEN    =        21.3578605561 /                                                \n",
       "SPMAPCTR=                   38 /                                                \n",
       "SPCCDIX0=                  320 /                                                \n",
       "SPCCDIX1=                  703 /                                                \n",
       "MACROID =                27316 /                                                \n",
       "NSLITPOS=                  120 /                                                \n",
       "NUM_SIDE=                    1 /                                                \n",
       "WAVE    = '6302A   '           /                                                \n",
       "SP_EXTID=                   11 /                                                \n",
       "SCN_STEP=                    1 /                                                \n",
       "SCN_SUM =                    1 /                                                \n",
       "SCN_RPT =                    1 /                                                \n",
       "CAMSSUM =                    1 /                                                \n",
       "EXPTIME =        3.20000000000 /                                                \n",
       "TSTART  = '2017-09-15T22:48:06.937' /                                           \n",
       "TEND    = '2017-09-16T05:48:03.331' /                                           \n",
       "MAPID   = '124576  '           /                                                \n",
       "BTYPE   = 'B_LOS   '           /                                                \n",
       "BUNIT   = 'Gauss   '           /                                                \n",
       "LVL_NUM =              1.50000 /                                                \n",
       "P_ANGLE =        24.2128619787 /                                                \n",
       "B_ANGLE =        7.19150301274 /                                                \n",
       "SOLAR_RA=        953.769601368 /                                                >"
      ]
     },
     "execution_count": 22,
     "metadata": {},
     "output_type": "execute_result"
    }
   ],
   "source": [
    "magincl = fits.open('file:///sanhome/shaivi/data/Phil_Shirts/SPcubes_20170915_224806_magincl_index.fits')\n",
    "magincl.info()\n",
    "magincl[0].header.keys"
   ]
  },
  {
   "cell_type": "code",
   "execution_count": null,
   "id": "025d5ec6-bf8a-478c-9e0f-d45cb9243a42",
   "metadata": {},
   "outputs": [],
   "source": [
    "data = magincl[0].data\n",
    "plt.imshow(data, cmap = 'gray')"
   ]
  },
  {
   "cell_type": "code",
   "execution_count": 23,
   "id": "21d36021-ad65-4317-86ea-871036bf2455",
   "metadata": {},
   "outputs": [
    {
     "name": "stdout",
     "output_type": "stream",
     "text": [
      "Filename: /Users/shaivi/.astropy/cache/download/url/09a54919bcbe3207b8d4b846fb9f2d75/contents\n",
      "No.    Name      Ver    Type      Cards   Dimensions   Format\n",
      "  0  PRIMARY       1 PrimaryHDU      49   ()      \n",
      "  1                1 ImageHDU        49   (120, 384)   float32   \n",
      "  2                1 ImageHDU        49   (120, 384)   float32   \n",
      "  3                1 ImageHDU        49   (120, 384)   float32   \n",
      "  4                1 ImageHDU        49   (120, 384)   float32   \n",
      "  5                1 ImageHDU        49   (120, 384)   float32   \n",
      "  6                1 ImageHDU        49   (120, 384)   float32   \n",
      "  7                1 ImageHDU        49   (120, 384)   float32   \n",
      "  8                1 ImageHDU        49   (120, 384)   float32   \n",
      "  9                1 ImageHDU        49   (120, 384)   float32   \n",
      " 10                1 ImageHDU        49   (120, 384)   float32   \n",
      " 11                1 ImageHDU        49   (120, 384)   float32   \n",
      " 12                1 ImageHDU        49   (120, 384)   float32   \n",
      " 13                1 ImageHDU        49   (120, 384)   float32   \n",
      " 14                1 ImageHDU        49   (120, 384)   float32   \n",
      " 15                1 ImageHDU        49   (120, 384)   float32   \n",
      " 16                1 ImageHDU        49   (120, 384)   float32   \n",
      " 17                1 ImageHDU        49   (120, 384)   float32   \n",
      " 18                1 ImageHDU        49   (120, 384)   float32   \n",
      " 19                1 ImageHDU        49   (120, 384)   float32   \n",
      " 20                1 ImageHDU        49   (120, 384)   float32   \n",
      " 21                1 ImageHDU        49   (120, 384)   float32   \n",
      " 22                1 ImageHDU        49   (120, 384)   float32   \n",
      " 23                1 ImageHDU        49   (120, 384)   float32   \n",
      " 24                1 ImageHDU        49   (120, 384)   float32   \n",
      " 25                1 ImageHDU        49   (120, 384)   float32   \n",
      " 26                1 ImageHDU        49   (120, 384)   float32   \n",
      " 27                1 ImageHDU        49   (120, 384)   float32   \n",
      " 28                1 ImageHDU        49   (120, 384)   float32   \n",
      " 29                1 ImageHDU        49   (120, 384)   float32   \n",
      " 30                1 ImageHDU        49   (120, 384)   float32   \n",
      " 31                1 ImageHDU        49   (120, 384)   float32   \n",
      " 32                1 ImageHDU        49   (120, 384)   float32   \n",
      " 33                1 ImageHDU        49   (120, 384)   float32   \n",
      " 34                1 ImageHDU        49   (120, 384)   float32   \n",
      " 35                1 ImageHDU        49   (120, 384)   float32   \n",
      " 36                1 ImageHDU        49   (120, 384)   float32   \n",
      " 37                1 ImageHDU        49   (120, 384)   float32   \n",
      " 38                1 ImageHDU        49   (120, 384)   float32   \n",
      " 39                1 ImageHDU        49   (120, 384)   float32   \n",
      " 40                1 ImageHDU        49   (120, 384)   float32   \n",
      " 41                1 ImageHDU        49   (120, 384)   float32   \n",
      " 42                1 ImageHDU        49   (120, 384)   float32   \n",
      " 43                1 ImageHDU        49   (120, 384)   float32   \n",
      " 44                1 ImageHDU        49   (120, 384)   float32   \n",
      " 45                1 ImageHDU        49   (120, 384)   float32   \n",
      " 46                1 ImageHDU        49   (120, 384)   float32   \n",
      " 47                1 ImageHDU        49   (120, 384)   float32   \n",
      " 48                1 ImageHDU        49   (120, 384)   float32   \n",
      " 49                1 ImageHDU        49   (120, 384)   float32   \n",
      " 50                1 ImageHDU        49   (120, 384)   float32   \n",
      " 51                1 ImageHDU        49   (120, 384)   float32   \n",
      " 52                1 ImageHDU        49   (120, 384)   float32   \n",
      " 53                1 ImageHDU        49   (120, 384)   float32   \n",
      " 54                1 ImageHDU        49   (120, 384)   float32   \n",
      " 55                1 ImageHDU        49   (120, 384)   float32   \n",
      " 56                1 ImageHDU        49   (120, 384)   float32   \n",
      " 57                1 ImageHDU        49   (120, 384)   float32   \n",
      " 58                1 ImageHDU        49   (120, 384)   float32   \n",
      " 59                1 ImageHDU        49   (120, 384)   float32   \n"
     ]
    },
    {
     "data": {
      "text/plain": [
       "<bound method Header.keys of SIMPLE  =                    T / Written by IDL:  Tue Jul 31 18:20:13 2018      \n",
       "BITPIX  =                   16 / Number of bits per data pixel                  \n",
       "NAXIS   =                    0 / Number of data axes                            \n",
       "EXTEND  =                    T / FITS data may contain extensions               \n",
       "DATE    = '2018-08-01'         / Creation UTC (CCCC-MM-DD) date of FITS header  \n",
       "COMMENT FITS (Flexible Image Transport System) format is defined in 'Astronomy  \n",
       "COMMENT and Astrophysics', volume 376, page 359; bibcode 2001A&A...376..359H    \n",
       "TELESCOP= 'HINODE  '           /                                                \n",
       "INSTRUME= 'SOT/SP  '           /                                                \n",
       "PROG_VER=                  463 /                                                \n",
       "SEQN_VER=                  496 /                                                \n",
       "PARM_VER=                  481 /                                                \n",
       "DATE_OBS= '15-Sep-2017 22:51:36.064' /                                          \n",
       "CRPIX1  =        60.5000000000 /                                                \n",
       "CRPIX2  =        192.500000000 /                                                \n",
       "CRVAL1  =       -16.2612735023 /                                                \n",
       "CRVAL2  =        21.3578605561 /                                                \n",
       "CDELT1  =       0.148569002748 /                                                \n",
       "CDELT2  =       0.159899994731 /                                                \n",
       "CUNIT1  = 'arcseconds'         /                                                \n",
       "CUNIT2  = 'arcseconds'         /                                                \n",
       "CTYPE1  = 'Solar-X '           /                                                \n",
       "CTYPE2  = 'Solar-Y '           /                                                \n",
       "CROTA1  =       0.411978989840 /                                                \n",
       "CROTA2  =       0.671978950500 /                                                \n",
       "XCEN    =       -16.2612735023 /                                                \n",
       "YCEN    =        21.3578605561 /                                                \n",
       "SPMAPCTR=                   38 /                                                \n",
       "SPCCDIX0=                  320 /                                                \n",
       "SPCCDIX1=                  703 /                                                \n",
       "MACROID =                27316 /                                                \n",
       "NSLITPOS=                  120 /                                                \n",
       "NUM_SIDE=                    1 /                                                \n",
       "WAVE    = '6302A   '           /                                                \n",
       "SP_EXTID=                   11 /                                                \n",
       "SCN_STEP=                    1 /                                                \n",
       "SCN_SUM =                    1 /                                                \n",
       "SCN_RPT =                    1 /                                                \n",
       "CAMSSUM =                    1 /                                                \n",
       "EXPTIME =        3.20000000000 /                                                \n",
       "TSTART  = '2017-09-15T22:48:06.937' /                                           \n",
       "TEND    = '2017-09-16T05:48:03.331' /                                           \n",
       "MAPID   = '124576  '           /                                                \n",
       "BTYPE   = 'B_LOS   '           /                                                \n",
       "BUNIT   = 'Gauss   '           /                                                \n",
       "LVL_NUM =              1.50000 /                                                \n",
       "P_ANGLE =        24.2128619787 /                                                \n",
       "B_ANGLE =        7.19150301274 /                                                \n",
       "SOLAR_RA=        953.769601368 /                                                >"
      ]
     },
     "execution_count": 23,
     "metadata": {},
     "output_type": "execute_result"
    }
   ],
   "source": [
    "conti = fits.open('file:///sanhome/shaivi/data/Phil_Shirts/SPcubes_20170915_224806_conti_index.fits')\n",
    "conti.info()\n",
    "conti[0].header.keys"
   ]
  },
  {
   "cell_type": "code",
   "execution_count": 13,
   "id": "d5bbd9eb-4522-4633-aa9d-80d842acad3a",
   "metadata": {},
   "outputs": [
    {
     "ename": "TypeError",
     "evalue": "Image data of dtype object cannot be converted to float",
     "output_type": "error",
     "traceback": [
      "\u001b[0;31m---------------------------------------------------------------------------\u001b[0m",
      "\u001b[0;31mTypeError\u001b[0m                                 Traceback (most recent call last)",
      "Input \u001b[0;32mIn [13]\u001b[0m, in \u001b[0;36m<cell line: 2>\u001b[0;34m()\u001b[0m\n\u001b[1;32m      1\u001b[0m data \u001b[38;5;241m=\u001b[39m conti[\u001b[38;5;241m0\u001b[39m]\u001b[38;5;241m.\u001b[39mdata\n\u001b[0;32m----> 2\u001b[0m \u001b[43mplt\u001b[49m\u001b[38;5;241;43m.\u001b[39;49m\u001b[43mimshow\u001b[49m\u001b[43m(\u001b[49m\u001b[43mdata\u001b[49m\u001b[43m,\u001b[49m\u001b[43m \u001b[49m\u001b[43mcmap\u001b[49m\u001b[43m \u001b[49m\u001b[38;5;241;43m=\u001b[39;49m\u001b[43m \u001b[49m\u001b[38;5;124;43m'\u001b[39;49m\u001b[38;5;124;43mgray\u001b[39;49m\u001b[38;5;124;43m'\u001b[39;49m\u001b[43m)\u001b[49m\n",
      "File \u001b[0;32m~/mambaforge/envs/work/lib/python3.10/site-packages/matplotlib/_api/deprecation.py:459\u001b[0m, in \u001b[0;36mmake_keyword_only.<locals>.wrapper\u001b[0;34m(*args, **kwargs)\u001b[0m\n\u001b[1;32m    453\u001b[0m \u001b[38;5;28;01mif\u001b[39;00m \u001b[38;5;28mlen\u001b[39m(args) \u001b[38;5;241m>\u001b[39m name_idx:\n\u001b[1;32m    454\u001b[0m     warn_deprecated(\n\u001b[1;32m    455\u001b[0m         since, message\u001b[38;5;241m=\u001b[39m\u001b[38;5;124m\"\u001b[39m\u001b[38;5;124mPassing the \u001b[39m\u001b[38;5;132;01m%(name)s\u001b[39;00m\u001b[38;5;124m \u001b[39m\u001b[38;5;132;01m%(obj_type)s\u001b[39;00m\u001b[38;5;124m \u001b[39m\u001b[38;5;124m\"\u001b[39m\n\u001b[1;32m    456\u001b[0m         \u001b[38;5;124m\"\u001b[39m\u001b[38;5;124mpositionally is deprecated since Matplotlib \u001b[39m\u001b[38;5;132;01m%(since)s\u001b[39;00m\u001b[38;5;124m; the \u001b[39m\u001b[38;5;124m\"\u001b[39m\n\u001b[1;32m    457\u001b[0m         \u001b[38;5;124m\"\u001b[39m\u001b[38;5;124mparameter will become keyword-only \u001b[39m\u001b[38;5;132;01m%(removal)s\u001b[39;00m\u001b[38;5;124m.\u001b[39m\u001b[38;5;124m\"\u001b[39m,\n\u001b[1;32m    458\u001b[0m         name\u001b[38;5;241m=\u001b[39mname, obj_type\u001b[38;5;241m=\u001b[39m\u001b[38;5;124mf\u001b[39m\u001b[38;5;124m\"\u001b[39m\u001b[38;5;124mparameter of \u001b[39m\u001b[38;5;132;01m{\u001b[39;00mfunc\u001b[38;5;241m.\u001b[39m\u001b[38;5;18m__name__\u001b[39m\u001b[38;5;132;01m}\u001b[39;00m\u001b[38;5;124m()\u001b[39m\u001b[38;5;124m\"\u001b[39m)\n\u001b[0;32m--> 459\u001b[0m \u001b[38;5;28;01mreturn\u001b[39;00m \u001b[43mfunc\u001b[49m\u001b[43m(\u001b[49m\u001b[38;5;241;43m*\u001b[39;49m\u001b[43margs\u001b[49m\u001b[43m,\u001b[49m\u001b[43m \u001b[49m\u001b[38;5;241;43m*\u001b[39;49m\u001b[38;5;241;43m*\u001b[39;49m\u001b[43mkwargs\u001b[49m\u001b[43m)\u001b[49m\n",
      "File \u001b[0;32m~/mambaforge/envs/work/lib/python3.10/site-packages/matplotlib/pyplot.py:2652\u001b[0m, in \u001b[0;36mimshow\u001b[0;34m(X, cmap, norm, aspect, interpolation, alpha, vmin, vmax, origin, extent, interpolation_stage, filternorm, filterrad, resample, url, data, **kwargs)\u001b[0m\n\u001b[1;32m   2646\u001b[0m \u001b[38;5;129m@_copy_docstring_and_deprecators\u001b[39m(Axes\u001b[38;5;241m.\u001b[39mimshow)\n\u001b[1;32m   2647\u001b[0m \u001b[38;5;28;01mdef\u001b[39;00m \u001b[38;5;21mimshow\u001b[39m(\n\u001b[1;32m   2648\u001b[0m         X, cmap\u001b[38;5;241m=\u001b[39m\u001b[38;5;28;01mNone\u001b[39;00m, norm\u001b[38;5;241m=\u001b[39m\u001b[38;5;28;01mNone\u001b[39;00m, aspect\u001b[38;5;241m=\u001b[39m\u001b[38;5;28;01mNone\u001b[39;00m, interpolation\u001b[38;5;241m=\u001b[39m\u001b[38;5;28;01mNone\u001b[39;00m,\n\u001b[1;32m   2649\u001b[0m         alpha\u001b[38;5;241m=\u001b[39m\u001b[38;5;28;01mNone\u001b[39;00m, vmin\u001b[38;5;241m=\u001b[39m\u001b[38;5;28;01mNone\u001b[39;00m, vmax\u001b[38;5;241m=\u001b[39m\u001b[38;5;28;01mNone\u001b[39;00m, origin\u001b[38;5;241m=\u001b[39m\u001b[38;5;28;01mNone\u001b[39;00m, extent\u001b[38;5;241m=\u001b[39m\u001b[38;5;28;01mNone\u001b[39;00m, \u001b[38;5;241m*\u001b[39m,\n\u001b[1;32m   2650\u001b[0m         interpolation_stage\u001b[38;5;241m=\u001b[39m\u001b[38;5;28;01mNone\u001b[39;00m, filternorm\u001b[38;5;241m=\u001b[39m\u001b[38;5;28;01mTrue\u001b[39;00m, filterrad\u001b[38;5;241m=\u001b[39m\u001b[38;5;241m4.0\u001b[39m,\n\u001b[1;32m   2651\u001b[0m         resample\u001b[38;5;241m=\u001b[39m\u001b[38;5;28;01mNone\u001b[39;00m, url\u001b[38;5;241m=\u001b[39m\u001b[38;5;28;01mNone\u001b[39;00m, data\u001b[38;5;241m=\u001b[39m\u001b[38;5;28;01mNone\u001b[39;00m, \u001b[38;5;241m*\u001b[39m\u001b[38;5;241m*\u001b[39mkwargs):\n\u001b[0;32m-> 2652\u001b[0m     __ret \u001b[38;5;241m=\u001b[39m \u001b[43mgca\u001b[49m\u001b[43m(\u001b[49m\u001b[43m)\u001b[49m\u001b[38;5;241;43m.\u001b[39;49m\u001b[43mimshow\u001b[49m\u001b[43m(\u001b[49m\n\u001b[1;32m   2653\u001b[0m \u001b[43m        \u001b[49m\u001b[43mX\u001b[49m\u001b[43m,\u001b[49m\u001b[43m \u001b[49m\u001b[43mcmap\u001b[49m\u001b[38;5;241;43m=\u001b[39;49m\u001b[43mcmap\u001b[49m\u001b[43m,\u001b[49m\u001b[43m \u001b[49m\u001b[43mnorm\u001b[49m\u001b[38;5;241;43m=\u001b[39;49m\u001b[43mnorm\u001b[49m\u001b[43m,\u001b[49m\u001b[43m \u001b[49m\u001b[43maspect\u001b[49m\u001b[38;5;241;43m=\u001b[39;49m\u001b[43maspect\u001b[49m\u001b[43m,\u001b[49m\n\u001b[1;32m   2654\u001b[0m \u001b[43m        \u001b[49m\u001b[43minterpolation\u001b[49m\u001b[38;5;241;43m=\u001b[39;49m\u001b[43minterpolation\u001b[49m\u001b[43m,\u001b[49m\u001b[43m \u001b[49m\u001b[43malpha\u001b[49m\u001b[38;5;241;43m=\u001b[39;49m\u001b[43malpha\u001b[49m\u001b[43m,\u001b[49m\u001b[43m \u001b[49m\u001b[43mvmin\u001b[49m\u001b[38;5;241;43m=\u001b[39;49m\u001b[43mvmin\u001b[49m\u001b[43m,\u001b[49m\n\u001b[1;32m   2655\u001b[0m \u001b[43m        \u001b[49m\u001b[43mvmax\u001b[49m\u001b[38;5;241;43m=\u001b[39;49m\u001b[43mvmax\u001b[49m\u001b[43m,\u001b[49m\u001b[43m \u001b[49m\u001b[43morigin\u001b[49m\u001b[38;5;241;43m=\u001b[39;49m\u001b[43morigin\u001b[49m\u001b[43m,\u001b[49m\u001b[43m \u001b[49m\u001b[43mextent\u001b[49m\u001b[38;5;241;43m=\u001b[39;49m\u001b[43mextent\u001b[49m\u001b[43m,\u001b[49m\n\u001b[1;32m   2656\u001b[0m \u001b[43m        \u001b[49m\u001b[43minterpolation_stage\u001b[49m\u001b[38;5;241;43m=\u001b[39;49m\u001b[43minterpolation_stage\u001b[49m\u001b[43m,\u001b[49m\n\u001b[1;32m   2657\u001b[0m \u001b[43m        \u001b[49m\u001b[43mfilternorm\u001b[49m\u001b[38;5;241;43m=\u001b[39;49m\u001b[43mfilternorm\u001b[49m\u001b[43m,\u001b[49m\u001b[43m \u001b[49m\u001b[43mfilterrad\u001b[49m\u001b[38;5;241;43m=\u001b[39;49m\u001b[43mfilterrad\u001b[49m\u001b[43m,\u001b[49m\u001b[43m \u001b[49m\u001b[43mresample\u001b[49m\u001b[38;5;241;43m=\u001b[39;49m\u001b[43mresample\u001b[49m\u001b[43m,\u001b[49m\n\u001b[1;32m   2658\u001b[0m \u001b[43m        \u001b[49m\u001b[43murl\u001b[49m\u001b[38;5;241;43m=\u001b[39;49m\u001b[43murl\u001b[49m\u001b[43m,\u001b[49m\u001b[43m \u001b[49m\u001b[38;5;241;43m*\u001b[39;49m\u001b[38;5;241;43m*\u001b[39;49m\u001b[43m(\u001b[49m\u001b[43m{\u001b[49m\u001b[38;5;124;43m\"\u001b[39;49m\u001b[38;5;124;43mdata\u001b[39;49m\u001b[38;5;124;43m\"\u001b[39;49m\u001b[43m:\u001b[49m\u001b[43m \u001b[49m\u001b[43mdata\u001b[49m\u001b[43m}\u001b[49m\u001b[43m \u001b[49m\u001b[38;5;28;43;01mif\u001b[39;49;00m\u001b[43m \u001b[49m\u001b[43mdata\u001b[49m\u001b[43m \u001b[49m\u001b[38;5;129;43;01mis\u001b[39;49;00m\u001b[43m \u001b[49m\u001b[38;5;129;43;01mnot\u001b[39;49;00m\u001b[43m \u001b[49m\u001b[38;5;28;43;01mNone\u001b[39;49;00m\u001b[43m \u001b[49m\u001b[38;5;28;43;01melse\u001b[39;49;00m\u001b[43m \u001b[49m\u001b[43m{\u001b[49m\u001b[43m}\u001b[49m\u001b[43m)\u001b[49m\u001b[43m,\u001b[49m\n\u001b[1;32m   2659\u001b[0m \u001b[43m        \u001b[49m\u001b[38;5;241;43m*\u001b[39;49m\u001b[38;5;241;43m*\u001b[39;49m\u001b[43mkwargs\u001b[49m\u001b[43m)\u001b[49m\n\u001b[1;32m   2660\u001b[0m     sci(__ret)\n\u001b[1;32m   2661\u001b[0m     \u001b[38;5;28;01mreturn\u001b[39;00m __ret\n",
      "File \u001b[0;32m~/mambaforge/envs/work/lib/python3.10/site-packages/matplotlib/_api/deprecation.py:459\u001b[0m, in \u001b[0;36mmake_keyword_only.<locals>.wrapper\u001b[0;34m(*args, **kwargs)\u001b[0m\n\u001b[1;32m    453\u001b[0m \u001b[38;5;28;01mif\u001b[39;00m \u001b[38;5;28mlen\u001b[39m(args) \u001b[38;5;241m>\u001b[39m name_idx:\n\u001b[1;32m    454\u001b[0m     warn_deprecated(\n\u001b[1;32m    455\u001b[0m         since, message\u001b[38;5;241m=\u001b[39m\u001b[38;5;124m\"\u001b[39m\u001b[38;5;124mPassing the \u001b[39m\u001b[38;5;132;01m%(name)s\u001b[39;00m\u001b[38;5;124m \u001b[39m\u001b[38;5;132;01m%(obj_type)s\u001b[39;00m\u001b[38;5;124m \u001b[39m\u001b[38;5;124m\"\u001b[39m\n\u001b[1;32m    456\u001b[0m         \u001b[38;5;124m\"\u001b[39m\u001b[38;5;124mpositionally is deprecated since Matplotlib \u001b[39m\u001b[38;5;132;01m%(since)s\u001b[39;00m\u001b[38;5;124m; the \u001b[39m\u001b[38;5;124m\"\u001b[39m\n\u001b[1;32m    457\u001b[0m         \u001b[38;5;124m\"\u001b[39m\u001b[38;5;124mparameter will become keyword-only \u001b[39m\u001b[38;5;132;01m%(removal)s\u001b[39;00m\u001b[38;5;124m.\u001b[39m\u001b[38;5;124m\"\u001b[39m,\n\u001b[1;32m    458\u001b[0m         name\u001b[38;5;241m=\u001b[39mname, obj_type\u001b[38;5;241m=\u001b[39m\u001b[38;5;124mf\u001b[39m\u001b[38;5;124m\"\u001b[39m\u001b[38;5;124mparameter of \u001b[39m\u001b[38;5;132;01m{\u001b[39;00mfunc\u001b[38;5;241m.\u001b[39m\u001b[38;5;18m__name__\u001b[39m\u001b[38;5;132;01m}\u001b[39;00m\u001b[38;5;124m()\u001b[39m\u001b[38;5;124m\"\u001b[39m)\n\u001b[0;32m--> 459\u001b[0m \u001b[38;5;28;01mreturn\u001b[39;00m \u001b[43mfunc\u001b[49m\u001b[43m(\u001b[49m\u001b[38;5;241;43m*\u001b[39;49m\u001b[43margs\u001b[49m\u001b[43m,\u001b[49m\u001b[43m \u001b[49m\u001b[38;5;241;43m*\u001b[39;49m\u001b[38;5;241;43m*\u001b[39;49m\u001b[43mkwargs\u001b[49m\u001b[43m)\u001b[49m\n",
      "File \u001b[0;32m~/mambaforge/envs/work/lib/python3.10/site-packages/matplotlib/__init__.py:1412\u001b[0m, in \u001b[0;36m_preprocess_data.<locals>.inner\u001b[0;34m(ax, data, *args, **kwargs)\u001b[0m\n\u001b[1;32m   1409\u001b[0m \u001b[38;5;129m@functools\u001b[39m\u001b[38;5;241m.\u001b[39mwraps(func)\n\u001b[1;32m   1410\u001b[0m \u001b[38;5;28;01mdef\u001b[39;00m \u001b[38;5;21minner\u001b[39m(ax, \u001b[38;5;241m*\u001b[39margs, data\u001b[38;5;241m=\u001b[39m\u001b[38;5;28;01mNone\u001b[39;00m, \u001b[38;5;241m*\u001b[39m\u001b[38;5;241m*\u001b[39mkwargs):\n\u001b[1;32m   1411\u001b[0m     \u001b[38;5;28;01mif\u001b[39;00m data \u001b[38;5;129;01mis\u001b[39;00m \u001b[38;5;28;01mNone\u001b[39;00m:\n\u001b[0;32m-> 1412\u001b[0m         \u001b[38;5;28;01mreturn\u001b[39;00m \u001b[43mfunc\u001b[49m\u001b[43m(\u001b[49m\u001b[43max\u001b[49m\u001b[43m,\u001b[49m\u001b[43m \u001b[49m\u001b[38;5;241;43m*\u001b[39;49m\u001b[38;5;28;43mmap\u001b[39;49m\u001b[43m(\u001b[49m\u001b[43msanitize_sequence\u001b[49m\u001b[43m,\u001b[49m\u001b[43m \u001b[49m\u001b[43margs\u001b[49m\u001b[43m)\u001b[49m\u001b[43m,\u001b[49m\u001b[43m \u001b[49m\u001b[38;5;241;43m*\u001b[39;49m\u001b[38;5;241;43m*\u001b[39;49m\u001b[43mkwargs\u001b[49m\u001b[43m)\u001b[49m\n\u001b[1;32m   1414\u001b[0m     bound \u001b[38;5;241m=\u001b[39m new_sig\u001b[38;5;241m.\u001b[39mbind(ax, \u001b[38;5;241m*\u001b[39margs, \u001b[38;5;241m*\u001b[39m\u001b[38;5;241m*\u001b[39mkwargs)\n\u001b[1;32m   1415\u001b[0m     auto_label \u001b[38;5;241m=\u001b[39m (bound\u001b[38;5;241m.\u001b[39marguments\u001b[38;5;241m.\u001b[39mget(label_namer)\n\u001b[1;32m   1416\u001b[0m                   \u001b[38;5;129;01mor\u001b[39;00m bound\u001b[38;5;241m.\u001b[39mkwargs\u001b[38;5;241m.\u001b[39mget(label_namer))\n",
      "File \u001b[0;32m~/mambaforge/envs/work/lib/python3.10/site-packages/matplotlib/axes/_axes.py:5481\u001b[0m, in \u001b[0;36mAxes.imshow\u001b[0;34m(self, X, cmap, norm, aspect, interpolation, alpha, vmin, vmax, origin, extent, interpolation_stage, filternorm, filterrad, resample, url, **kwargs)\u001b[0m\n\u001b[1;32m   5474\u001b[0m \u001b[38;5;28mself\u001b[39m\u001b[38;5;241m.\u001b[39mset_aspect(aspect)\n\u001b[1;32m   5475\u001b[0m im \u001b[38;5;241m=\u001b[39m mimage\u001b[38;5;241m.\u001b[39mAxesImage(\u001b[38;5;28mself\u001b[39m, cmap, norm, interpolation,\n\u001b[1;32m   5476\u001b[0m                       origin, extent, filternorm\u001b[38;5;241m=\u001b[39mfilternorm,\n\u001b[1;32m   5477\u001b[0m                       filterrad\u001b[38;5;241m=\u001b[39mfilterrad, resample\u001b[38;5;241m=\u001b[39mresample,\n\u001b[1;32m   5478\u001b[0m                       interpolation_stage\u001b[38;5;241m=\u001b[39minterpolation_stage,\n\u001b[1;32m   5479\u001b[0m                       \u001b[38;5;241m*\u001b[39m\u001b[38;5;241m*\u001b[39mkwargs)\n\u001b[0;32m-> 5481\u001b[0m \u001b[43mim\u001b[49m\u001b[38;5;241;43m.\u001b[39;49m\u001b[43mset_data\u001b[49m\u001b[43m(\u001b[49m\u001b[43mX\u001b[49m\u001b[43m)\u001b[49m\n\u001b[1;32m   5482\u001b[0m im\u001b[38;5;241m.\u001b[39mset_alpha(alpha)\n\u001b[1;32m   5483\u001b[0m \u001b[38;5;28;01mif\u001b[39;00m im\u001b[38;5;241m.\u001b[39mget_clip_path() \u001b[38;5;129;01mis\u001b[39;00m \u001b[38;5;28;01mNone\u001b[39;00m:\n\u001b[1;32m   5484\u001b[0m     \u001b[38;5;66;03m# image does not already have clipping set, clip to axes patch\u001b[39;00m\n",
      "File \u001b[0;32m~/mambaforge/envs/work/lib/python3.10/site-packages/matplotlib/image.py:706\u001b[0m, in \u001b[0;36m_ImageBase.set_data\u001b[0;34m(self, A)\u001b[0m\n\u001b[1;32m    702\u001b[0m \u001b[38;5;28mself\u001b[39m\u001b[38;5;241m.\u001b[39m_A \u001b[38;5;241m=\u001b[39m cbook\u001b[38;5;241m.\u001b[39msafe_masked_invalid(A, copy\u001b[38;5;241m=\u001b[39m\u001b[38;5;28;01mTrue\u001b[39;00m)\n\u001b[1;32m    704\u001b[0m \u001b[38;5;28;01mif\u001b[39;00m (\u001b[38;5;28mself\u001b[39m\u001b[38;5;241m.\u001b[39m_A\u001b[38;5;241m.\u001b[39mdtype \u001b[38;5;241m!=\u001b[39m np\u001b[38;5;241m.\u001b[39muint8 \u001b[38;5;129;01mand\u001b[39;00m\n\u001b[1;32m    705\u001b[0m         \u001b[38;5;129;01mnot\u001b[39;00m np\u001b[38;5;241m.\u001b[39mcan_cast(\u001b[38;5;28mself\u001b[39m\u001b[38;5;241m.\u001b[39m_A\u001b[38;5;241m.\u001b[39mdtype, \u001b[38;5;28mfloat\u001b[39m, \u001b[38;5;124m\"\u001b[39m\u001b[38;5;124msame_kind\u001b[39m\u001b[38;5;124m\"\u001b[39m)):\n\u001b[0;32m--> 706\u001b[0m     \u001b[38;5;28;01mraise\u001b[39;00m \u001b[38;5;167;01mTypeError\u001b[39;00m(\u001b[38;5;124m\"\u001b[39m\u001b[38;5;124mImage data of dtype \u001b[39m\u001b[38;5;132;01m{}\u001b[39;00m\u001b[38;5;124m cannot be converted to \u001b[39m\u001b[38;5;124m\"\u001b[39m\n\u001b[1;32m    707\u001b[0m                     \u001b[38;5;124m\"\u001b[39m\u001b[38;5;124mfloat\u001b[39m\u001b[38;5;124m\"\u001b[39m\u001b[38;5;241m.\u001b[39mformat(\u001b[38;5;28mself\u001b[39m\u001b[38;5;241m.\u001b[39m_A\u001b[38;5;241m.\u001b[39mdtype))\n\u001b[1;32m    709\u001b[0m \u001b[38;5;28;01mif\u001b[39;00m \u001b[38;5;28mself\u001b[39m\u001b[38;5;241m.\u001b[39m_A\u001b[38;5;241m.\u001b[39mndim \u001b[38;5;241m==\u001b[39m \u001b[38;5;241m3\u001b[39m \u001b[38;5;129;01mand\u001b[39;00m \u001b[38;5;28mself\u001b[39m\u001b[38;5;241m.\u001b[39m_A\u001b[38;5;241m.\u001b[39mshape[\u001b[38;5;241m-\u001b[39m\u001b[38;5;241m1\u001b[39m] \u001b[38;5;241m==\u001b[39m \u001b[38;5;241m1\u001b[39m:\n\u001b[1;32m    710\u001b[0m     \u001b[38;5;66;03m# If just one dimension assume scalar and apply colormap\u001b[39;00m\n\u001b[1;32m    711\u001b[0m     \u001b[38;5;28mself\u001b[39m\u001b[38;5;241m.\u001b[39m_A \u001b[38;5;241m=\u001b[39m \u001b[38;5;28mself\u001b[39m\u001b[38;5;241m.\u001b[39m_A[:, :, \u001b[38;5;241m0\u001b[39m]\n",
      "\u001b[0;31mTypeError\u001b[0m: Image data of dtype object cannot be converted to float"
     ]
    },
    {
     "data": {
      "image/png": "[encoded data removed]",
      "text/plain": [
       "<Figure size 576x432 with 1 Axes>"
      ]
     },
     "metadata": {},
     "output_type": "display_data"
    }
   ],
   "source": [
    "data = conti[0].data\n",
    "plt.imshow(data, cmap = 'gray')"
   ]
  },
  {
   "cell_type": "code",
   "execution_count": 24,
   "id": "b53bb6e2-023c-46f0-b953-5a59b1e701dd",
   "metadata": {},
   "outputs": [
    {
     "ename": "TypeError",
     "evalue": "must be real number, not HDUList",
     "output_type": "error",
     "traceback": [
      "\u001b[0;31m---------------------------------------------------------------------------\u001b[0m",
      "\u001b[0;31mTypeError\u001b[0m                                 Traceback (most recent call last)",
      "Input \u001b[0;32mIn [24]\u001b[0m, in \u001b[0;36m<cell line: 1>\u001b[0;34m()\u001b[0m\n\u001b[0;32m----> 1\u001b[0m bz \u001b[38;5;241m=\u001b[39m magfield\u001b[38;5;241m*\u001b[39m(\u001b[43mmath\u001b[49m\u001b[38;5;241;43m.\u001b[39;49m\u001b[43mcos\u001b[49m\u001b[43m(\u001b[49m\u001b[43mmagincl\u001b[49m\u001b[43m)\u001b[49m)\n",
      "\u001b[0;31mTypeError\u001b[0m: must be real number, not HDUList"
     ]
    }
   ],
   "source": [
    "bz = magfield*(math.cos(magincl))"
   ]
  },
  {
   "cell_type": "code",
   "execution_count": null,
   "id": "c1ab6edd-3398-4b12-b367-642f84f91342",
   "metadata": {},
   "outputs": [],
   "source": []
  }
 ],
 "metadata": {
  "kernelspec": {
   "display_name": "Python 3 (ipykernel)",
   "language": "python",
   "name": "python3"
  },
  "language_info": {
   "codemirror_mode": {
    "name": "ipython",
    "version": 3
   },
   "file_extension": ".py",
   "mimetype": "text/x-python",
   "name": "python",
   "nbconvert_exporter": "python",
   "pygments_lexer": "ipython3",
   "version": "3.10.6"
  }
 },
 "nbformat": 4,
 "nbformat_minor": 5
}
