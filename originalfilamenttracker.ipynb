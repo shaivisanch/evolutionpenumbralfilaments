{
 "cells": [
  {
   "cell_type": "code",
   "execution_count": 1,
   "id": "0f8c03c3-00f4-4b23-a4eb-3f30c86b08ee",
   "metadata": {},
   "outputs": [],
   "source": [
    "import numpy as np\n",
    "from matplotlib import pyplot as plt                                                                                                                                                                                                                                                                                                                                                                                                                                                                                                                                                                                                                                                                                                                                                                                                                                                                                                                                                                                                                                                                                                                                                                                                                                                                                                                                                                                                                                                                                                                                                                                                                                                                                                                                                                                                                                                                                                                                                                                                                                                                                                                                                                                                                                                                                                                                                                                                                                                                                                                                                                                                                                                                                                                                                                                                                                                                                                                                                                                                                                                                                                                                                                                                                                                                                                                                                                                                                                                                                                                                                                                                                                                                                                                                                                                               \n",
    "\n",
    "import math\n",
    "from astropy.io import fits\n",
    "from astropy.visualization import astropy_mpl_style\n",
    "plt.style.use(astropy_mpl_style)\n",
    "#plt.style.use(\"default\")\n",
    "#import sys\n",
    "#sys.path.append('/Users/shaivi/mypy/')\n",
    "import tvg"
   ]
  },
  {
   "cell_type": "code",
   "execution_count": 4,
   "id": "56188eb9-71c3-4b0d-8390-a86eb3d973c2",
   "metadata": {},
   "outputs": [],
   "source": [
    "conti = fits.open('file:///sanhome/shaivi/data/Phil_Shirts/SPcubes_20170915_224806_conti_index.fits')\n",
    "magincl = fits.open('file:///sanhome/shaivi/data/Phil_Shirts/SPcubes_20170915_224806_magincl_index.fits')\n",
    "magfield = fits.open('file:///sanhome/shaivi/data/Phil_Shirts/SPcubes_20170915_224806_magfield_index.fits')\n",
    "\n",
    "num_scans = 59\n",
    "dim = conti[1].data.shape\n",
    "data_conti = np.zeros((dim[0], dim[1], num_scans))\n",
    "data_magincl = np.zeros((dim[0], dim[1], num_scans))\n",
    "data_Bz = np.zeros((dim[0], dim[1], num_scans))\n",
    "\n",
    "for i in range(num_scans):\n",
    "    data_conti_temp = conti[i+1].data\n",
    "    data_conti_2=(data_conti_temp - data_conti_temp.min())*(255.0/(data_conti_temp - data_conti_temp.min()).max())\n",
    "    data_conti[:,:,i] = data_conti_2\n",
    "    np.save('/Users/shaivi/Downloads/test_conti.npy', data_conti)\n",
    "   \n",
    "    data_magincl_temp = magincl[i+1].data\n",
    "    data_magincl_2=(data_magincl_temp - data_magincl_temp.min())*(255.0/(data_magincl_temp - data_magincl_temp.min()).max())\n",
    "    data_magincl[:,:,i] = data_magincl_2\n",
    "    np.save('/Users/shaivi/Downloads/test_magincl.npy', data_magincl)\n",
    "\n",
    "    data_magfield_temp = magfield[i+1].data\n",
    "    Bz_temp =  data_magfield_temp*(np.cos(np.array(np.deg2rad(data_magincl_temp))))\n",
    "    data_Bz_2=(Bz_temp - Bz_temp.min())*(255.0/(Bz_temp - Bz_temp.min()).max())\n",
    "    data_Bz[:,:,i] = data_Bz_2\n",
    "    np.save('/Users/shaivi/Downloads/test_Bz.npy', data_Bz)"
   ]
  },
  {
   "cell_type": "code",
   "execution_count": null,
   "id": "c6460280-f1f6-4183-9c1a-2c427c3261de",
   "metadata": {},
   "outputs": [],
   "source": [
    "data_conti = np.load('/Users/shaivi/Downloads/test_conti.npy')\n",
    "selconti = tvg.show(data_conti[:,:,:], pdim=3, cmap='afmhot')\n",
    "#selconti = tvg.show(data_conti, pdim=3, cmap='afmhot')\n",
    "#selconti['ori_coord_values'][0]\n",
    "#selconti = tvg.show(data_Bz, pdim=3, cmap='gray')\n",
    "#ax[selconti].grid(False)\n",
    "#ini_val=selconti"
   ]
  },
  {
   "cell_type": "code",
   "execution_count": 1,
   "id": "2d91b879-7c5d-4b17-a170-d04cce3c8bc5",
   "metadata": {},
   "outputs": [
    {
     "ename": "NameError",
     "evalue": "name 'selconti' is not defined",
     "output_type": "error",
     "traceback": [
      "\u001b[0;31m---------------------------------------------------------------------------\u001b[0m",
      "\u001b[0;31mNameError\u001b[0m                                 Traceback (most recent call last)",
      "Input \u001b[0;32mIn [1]\u001b[0m, in \u001b[0;36m<cell line: 3>\u001b[0;34m()\u001b[0m\n\u001b[1;32m      1\u001b[0m \u001b[38;5;28;01mimport\u001b[39;00m \u001b[38;5;21;01msaveall\u001b[39;00m \u001b[38;5;28;01mas\u001b[39;00m \u001b[38;5;21;01msv\u001b[39;00m\n\u001b[0;32m----> 3\u001b[0m sv\u001b[38;5;241m.\u001b[39msave(\u001b[38;5;124m'\u001b[39m\u001b[38;5;124mtest.jbl\u001b[39m\u001b[38;5;124m'\u001b[39m, \u001b[43mselconti\u001b[49m, asdfasdf, asdfasdf ,asdfasa)\n",
      "\u001b[0;31mNameError\u001b[0m: name 'selconti' is not defined"
     ]
    }
   ],
   "source": [
    "import saveall as sv\n",
    "\n",
    "sv.save('test.jbl', selconti, asdfasdf, asdfasdf ,asdfasa)"
   ]
  },
  {
   "cell_type": "code",
   "execution_count": null,
   "id": "13837b21-1da0-4868-8b53-f1140ff6bc5f",
   "metadata": {},
   "outputs": [],
   "source": [
    "aux = sv.load('test.jbl')"
   ]
  },
  {
   "cell_type": "code",
   "execution_count": null,
   "id": "a98d3d26-9586-4441-b23d-4e94a29bd2b1",
   "metadata": {},
   "outputs": [],
   "source": [
    "selconti2 =  aux['selconti']\n",
    "selconti2\n",
    "selconti3 = tvg.show(data_conti, pdim=3, cmap='gray', ini_val=selconti2)\n"
   ]
  },
  {
   "cell_type": "code",
   "execution_count": null,
   "id": "60b68c8f-51f6-4a55-9eff-b4696862cac5",
   "metadata": {},
   "outputs": [],
   "source": [
    "data_magincl = np.load('/Users/shaivi/Downloads/test_magincl.npy')\n",
    "selmagincl = tvg.show(data_magincl, pdim=3, cmap='gray')"
   ]
  },
  {
   "cell_type": "code",
   "execution_count": null,
   "id": "992e6a79-6a19-44b0-99f7-4268dda3c67d",
   "metadata": {},
   "outputs": [],
   "source": [
    "data_Bz = np.load('/Users/shaivi/Downloads/test_magincl.npy')\n",
    "selBz = tvg.show(data_magincl, pdim=3, cmap='afmhot')"
   ]
  },
  {
   "cell_type": "markdown",
   "id": "e59db9a2-d20d-4ffe-a734-6409b3b57171",
   "metadata": {},
   "source": [
    "How do I get the figure to show again?\n",
    "resolved: there was issues with the first line - specifically matplotlib"
   ]
  },
  {
   "cell_type": "markdown",
   "id": "d39e5dc3-c091-4602-8cef-13bd05d390fa",
   "metadata": {},
   "source": [
    "How do I interact with the image after the loading symbol?"
   ]
  },
  {
   "cell_type": "code",
   "execution_count": 3,
   "id": "94a1a616-e590-4a9f-aa73-c8a5ce2f2cfd",
   "metadata": {},
   "outputs": [],
   "source": [
    "dim = data_Bz.shape\n",
    "alltogether = np.zeros((dim[0], dim[1], dim[2]*3))\n",
    "j = 0; alltogether[:,:,j*59:(j+1)*59] = data_conti\n",
    "j = 1 ;alltogether[:,:,j*59:(j+1)*59] = data_Bz\n",
    "j = 2 ;alltogether[:,:,j*59:(j+1)*59] = data_magincl\n",
    "\n",
    "dim = data_Bz.shape\n",
    "alltogether = np.zeros((dim[0], dim[1]*3, dim[2]))\n",
    "j = 0; alltogether[:,j*dim[1]:(j+1)*dim[1],:] = data_conti\n",
    "j = 1 ;alltogether[:,j*dim[1]:(j+1)*dim[1],:] = data_Bz\n",
    "j = 2 ;alltogether[:,j*dim[1]:(j+1)*dim[1],:] = data_magincl"
   ]
  },
  {
   "cell_type": "code",
   "execution_count": 1,
   "id": "34be0753-7b4b-461c-8266-9fc13c5f5cdf",
   "metadata": {},
   "outputs": [
    {
     "ename": "NameError",
     "evalue": "name 'tvg' is not defined",
     "output_type": "error",
     "traceback": [
      "\u001b[0;31m---------------------------------------------------------------------------\u001b[0m",
      "\u001b[0;31mNameError\u001b[0m                                 Traceback (most recent call last)",
      "Input \u001b[0;32mIn [1]\u001b[0m, in \u001b[0;36m<cell line: 1>\u001b[0;34m()\u001b[0m\n\u001b[0;32m----> 1\u001b[0m sel_alltog \u001b[38;5;241m=\u001b[39m \u001b[43mtvg\u001b[49m\u001b[38;5;241m.\u001b[39mshow(alltogether, pdim\u001b[38;5;241m=\u001b[39m\u001b[38;5;241m3\u001b[39m, cmap\u001b[38;5;241m=\u001b[39m\u001b[38;5;124m'\u001b[39m\u001b[38;5;124mafmhot\u001b[39m\u001b[38;5;124m'\u001b[39m)\n",
      "\u001b[0;31mNameError\u001b[0m: name 'tvg' is not defined"
     ]
    }
   ],
   "source": [
    "sel_alltog = tvg.show(alltogether, pdim=3, cmap='afmhot')"
   ]
  },
  {
   "cell_type": "code",
   "execution_count": null,
   "id": "e6cf7e5f-83e0-46c3-a782-f2bac3ffc718",
   "metadata": {},
   "outputs": [],
   "source": []
  }
 ],
 "metadata": {
  "kernelspec": {
   "display_name": "Python 3 (ipykernel)",
   "language": "python",
   "name": "python3"
  },
  "language_info": {
   "codemirror_mode": {
    "name": "ipython",
    "version": 3
   },
   "file_extension": ".py",
   "mimetype": "text/x-python",
   "name": "python",
   "nbconvert_exporter": "python",
   "pygments_lexer": "ipython3",
   "version": "3.10.6"
  }
 },
 "nbformat": 4,
 "nbformat_minor": 5
}
